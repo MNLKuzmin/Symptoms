{
 "cells": [
  {
   "cell_type": "markdown",
   "id": "1bf0d4c4",
   "metadata": {},
   "source": [
    "## Disease Symptoms and Patient Profile Project"
   ]
  },
  {
   "cell_type": "markdown",
   "id": "1a51888d",
   "metadata": {},
   "source": [
    "In this project we are going to study the connection between the symptoms and medical history of patients to some diseases.\n",
    "<br>The file we have available is in csv format and we are going to read it, right after doing some essential imports for the project."
   ]
  },
  {
   "cell_type": "code",
   "execution_count": 1,
   "id": "c5ef61e6",
   "metadata": {},
   "outputs": [],
   "source": [
    "import pandas as pd\n",
    "import numpy as np\n",
    "import seaborn as sns\n",
    "import matplotlib.pyplot as plt\n",
    "import joblib\n",
    "\n",
    "from sklearn.preprocessing import MinMaxScaler, LabelEncoder\n",
    "from sklearn.model_selection import train_test_split, cross_val_score\n",
    "from sklearn.model_selection import StratifiedKFold, GridSearchCV\n",
    "\n",
    "from sklearn.metrics import precision_score, recall_score, accuracy_score, f1_score\n",
    "from sklearn.metrics import roc_curve, auc, plot_roc_curve, roc_auc_score\n",
    "from sklearn.metrics import confusion_matrix, plot_confusion_matrix, classification_report\n",
    "\n",
    "from sklearn.linear_model import LogisticRegression\n",
    "from sklearn import tree\n",
    "from sklearn.tree import DecisionTreeClassifier, DecisionTreeRegressor\n",
    "from sklearn.ensemble import BaggingClassifier, RandomForestClassifier\n",
    "from sklearn.ensemble import GradientBoostingClassifier\n",
    "\n",
    "from colorama import Fore\n",
    "from colorama import Style\n",
    "\n",
    "import warnings\n",
    "warnings.filterwarnings('ignore')"
   ]
  },
  {
   "cell_type": "markdown",
   "id": "f0108cfd",
   "metadata": {},
   "source": [
    "The dataset was available on Kaggle at the following link: https://www.kaggle.com/datasets/uom190346a/disease-symptoms-and-patient-profile-dataset/ .\n",
    "It contains records about 349 patients and the columns of the dataset are:\n",
    "<br>Disease: The name of the disease or medical condition.\n",
    "<br>Fever: Indicates whether the patient has a fever (Yes/No).\n",
    "<br>Cough: Indicates whether the patient has a cough (Yes/No).\n",
    "<br>Fatigue: Indicates whether the patient experiences fatigue (Yes/No).\n",
    "<br>Difficulty Breathing: Indicates whether the patient has difficulty breathing (Yes/No).\n",
    "<br>Age: The age of the patient in years.\n",
    "<br>Gender: The gender of the patient (Male/Female).\n",
    "<br>Blood Pressure: The blood pressure level of the patient (Normal/High).\n",
    "<br>Cholesterol Level: The cholesterol level of the patient (Normal/High).\n",
    "<br>Outcome Variable: The outcome variable indicating the result of the diagnosis or assessment for the specific disease (Positive/Negative)."
   ]
  },
  {
   "cell_type": "code",
   "execution_count": 2,
   "id": "6b51cd8f",
   "metadata": {},
   "outputs": [],
   "source": [
    "df=pd.read_csv('Disease_symptom_and_patient_profile_dataset.csv')"
   ]
  },
  {
   "cell_type": "code",
   "execution_count": 3,
   "id": "13429388",
   "metadata": {},
   "outputs": [
    {
     "data": {
      "text/html": [
       "<div>\n",
       "<style scoped>\n",
       "    .dataframe tbody tr th:only-of-type {\n",
       "        vertical-align: middle;\n",
       "    }\n",
       "\n",
       "    .dataframe tbody tr th {\n",
       "        vertical-align: top;\n",
       "    }\n",
       "\n",
       "    .dataframe thead th {\n",
       "        text-align: right;\n",
       "    }\n",
       "</style>\n",
       "<table border=\"1\" class=\"dataframe\">\n",
       "  <thead>\n",
       "    <tr style=\"text-align: right;\">\n",
       "      <th></th>\n",
       "      <th>Disease</th>\n",
       "      <th>Fever</th>\n",
       "      <th>Cough</th>\n",
       "      <th>Fatigue</th>\n",
       "      <th>Difficulty Breathing</th>\n",
       "      <th>Age</th>\n",
       "      <th>Gender</th>\n",
       "      <th>Blood Pressure</th>\n",
       "      <th>Cholesterol Level</th>\n",
       "      <th>Outcome Variable</th>\n",
       "    </tr>\n",
       "  </thead>\n",
       "  <tbody>\n",
       "    <tr>\n",
       "      <th>0</th>\n",
       "      <td>Influenza</td>\n",
       "      <td>Yes</td>\n",
       "      <td>No</td>\n",
       "      <td>Yes</td>\n",
       "      <td>Yes</td>\n",
       "      <td>19</td>\n",
       "      <td>Female</td>\n",
       "      <td>Low</td>\n",
       "      <td>Normal</td>\n",
       "      <td>Positive</td>\n",
       "    </tr>\n",
       "    <tr>\n",
       "      <th>1</th>\n",
       "      <td>Common Cold</td>\n",
       "      <td>No</td>\n",
       "      <td>Yes</td>\n",
       "      <td>Yes</td>\n",
       "      <td>No</td>\n",
       "      <td>25</td>\n",
       "      <td>Female</td>\n",
       "      <td>Normal</td>\n",
       "      <td>Normal</td>\n",
       "      <td>Negative</td>\n",
       "    </tr>\n",
       "    <tr>\n",
       "      <th>2</th>\n",
       "      <td>Eczema</td>\n",
       "      <td>No</td>\n",
       "      <td>Yes</td>\n",
       "      <td>Yes</td>\n",
       "      <td>No</td>\n",
       "      <td>25</td>\n",
       "      <td>Female</td>\n",
       "      <td>Normal</td>\n",
       "      <td>Normal</td>\n",
       "      <td>Negative</td>\n",
       "    </tr>\n",
       "    <tr>\n",
       "      <th>3</th>\n",
       "      <td>Asthma</td>\n",
       "      <td>Yes</td>\n",
       "      <td>Yes</td>\n",
       "      <td>No</td>\n",
       "      <td>Yes</td>\n",
       "      <td>25</td>\n",
       "      <td>Male</td>\n",
       "      <td>Normal</td>\n",
       "      <td>Normal</td>\n",
       "      <td>Positive</td>\n",
       "    </tr>\n",
       "    <tr>\n",
       "      <th>4</th>\n",
       "      <td>Asthma</td>\n",
       "      <td>Yes</td>\n",
       "      <td>Yes</td>\n",
       "      <td>No</td>\n",
       "      <td>Yes</td>\n",
       "      <td>25</td>\n",
       "      <td>Male</td>\n",
       "      <td>Normal</td>\n",
       "      <td>Normal</td>\n",
       "      <td>Positive</td>\n",
       "    </tr>\n",
       "    <tr>\n",
       "      <th>...</th>\n",
       "      <td>...</td>\n",
       "      <td>...</td>\n",
       "      <td>...</td>\n",
       "      <td>...</td>\n",
       "      <td>...</td>\n",
       "      <td>...</td>\n",
       "      <td>...</td>\n",
       "      <td>...</td>\n",
       "      <td>...</td>\n",
       "      <td>...</td>\n",
       "    </tr>\n",
       "    <tr>\n",
       "      <th>344</th>\n",
       "      <td>Stroke</td>\n",
       "      <td>Yes</td>\n",
       "      <td>No</td>\n",
       "      <td>Yes</td>\n",
       "      <td>No</td>\n",
       "      <td>80</td>\n",
       "      <td>Female</td>\n",
       "      <td>High</td>\n",
       "      <td>High</td>\n",
       "      <td>Positive</td>\n",
       "    </tr>\n",
       "    <tr>\n",
       "      <th>345</th>\n",
       "      <td>Stroke</td>\n",
       "      <td>Yes</td>\n",
       "      <td>No</td>\n",
       "      <td>Yes</td>\n",
       "      <td>No</td>\n",
       "      <td>85</td>\n",
       "      <td>Male</td>\n",
       "      <td>High</td>\n",
       "      <td>High</td>\n",
       "      <td>Positive</td>\n",
       "    </tr>\n",
       "    <tr>\n",
       "      <th>346</th>\n",
       "      <td>Stroke</td>\n",
       "      <td>Yes</td>\n",
       "      <td>No</td>\n",
       "      <td>Yes</td>\n",
       "      <td>No</td>\n",
       "      <td>85</td>\n",
       "      <td>Male</td>\n",
       "      <td>High</td>\n",
       "      <td>High</td>\n",
       "      <td>Positive</td>\n",
       "    </tr>\n",
       "    <tr>\n",
       "      <th>347</th>\n",
       "      <td>Stroke</td>\n",
       "      <td>Yes</td>\n",
       "      <td>No</td>\n",
       "      <td>Yes</td>\n",
       "      <td>No</td>\n",
       "      <td>90</td>\n",
       "      <td>Female</td>\n",
       "      <td>High</td>\n",
       "      <td>High</td>\n",
       "      <td>Positive</td>\n",
       "    </tr>\n",
       "    <tr>\n",
       "      <th>348</th>\n",
       "      <td>Stroke</td>\n",
       "      <td>Yes</td>\n",
       "      <td>No</td>\n",
       "      <td>Yes</td>\n",
       "      <td>No</td>\n",
       "      <td>90</td>\n",
       "      <td>Female</td>\n",
       "      <td>High</td>\n",
       "      <td>High</td>\n",
       "      <td>Positive</td>\n",
       "    </tr>\n",
       "  </tbody>\n",
       "</table>\n",
       "<p>349 rows × 10 columns</p>\n",
       "</div>"
      ],
      "text/plain": [
       "         Disease Fever Cough Fatigue Difficulty Breathing  Age  Gender  \\\n",
       "0      Influenza   Yes    No     Yes                  Yes   19  Female   \n",
       "1    Common Cold    No   Yes     Yes                   No   25  Female   \n",
       "2         Eczema    No   Yes     Yes                   No   25  Female   \n",
       "3         Asthma   Yes   Yes      No                  Yes   25    Male   \n",
       "4         Asthma   Yes   Yes      No                  Yes   25    Male   \n",
       "..           ...   ...   ...     ...                  ...  ...     ...   \n",
       "344       Stroke   Yes    No     Yes                   No   80  Female   \n",
       "345       Stroke   Yes    No     Yes                   No   85    Male   \n",
       "346       Stroke   Yes    No     Yes                   No   85    Male   \n",
       "347       Stroke   Yes    No     Yes                   No   90  Female   \n",
       "348       Stroke   Yes    No     Yes                   No   90  Female   \n",
       "\n",
       "    Blood Pressure Cholesterol Level Outcome Variable  \n",
       "0              Low            Normal         Positive  \n",
       "1           Normal            Normal         Negative  \n",
       "2           Normal            Normal         Negative  \n",
       "3           Normal            Normal         Positive  \n",
       "4           Normal            Normal         Positive  \n",
       "..             ...               ...              ...  \n",
       "344           High              High         Positive  \n",
       "345           High              High         Positive  \n",
       "346           High              High         Positive  \n",
       "347           High              High         Positive  \n",
       "348           High              High         Positive  \n",
       "\n",
       "[349 rows x 10 columns]"
      ]
     },
     "execution_count": 3,
     "metadata": {},
     "output_type": "execute_result"
    }
   ],
   "source": [
    "df"
   ]
  },
  {
   "cell_type": "markdown",
   "id": "25e6be38",
   "metadata": {},
   "source": [
    "Next let us check if any of the values are null:"
   ]
  },
  {
   "cell_type": "code",
   "execution_count": 4,
   "id": "3f5d51c8",
   "metadata": {},
   "outputs": [
    {
     "data": {
      "text/plain": [
       "Disease                 0\n",
       "Fever                   0\n",
       "Cough                   0\n",
       "Fatigue                 0\n",
       "Difficulty Breathing    0\n",
       "Age                     0\n",
       "Gender                  0\n",
       "Blood Pressure          0\n",
       "Cholesterol Level       0\n",
       "Outcome Variable        0\n",
       "dtype: int64"
      ]
     },
     "execution_count": 4,
     "metadata": {},
     "output_type": "execute_result"
    }
   ],
   "source": [
    "df.isnull().sum()"
   ]
  },
  {
   "cell_type": "markdown",
   "id": "cc1a7bb4",
   "metadata": {},
   "source": [
    "Good to see that there are no null values in the DataFrame.\n",
    "Next we are going to check for duplicated values:"
   ]
  },
  {
   "cell_type": "code",
   "execution_count": 13,
   "id": "2e50ffb9",
   "metadata": {},
   "outputs": [
    {
     "data": {
      "text/html": [
       "<div>\n",
       "<style scoped>\n",
       "    .dataframe tbody tr th:only-of-type {\n",
       "        vertical-align: middle;\n",
       "    }\n",
       "\n",
       "    .dataframe tbody tr th {\n",
       "        vertical-align: top;\n",
       "    }\n",
       "\n",
       "    .dataframe thead th {\n",
       "        text-align: right;\n",
       "    }\n",
       "</style>\n",
       "<table border=\"1\" class=\"dataframe\">\n",
       "  <thead>\n",
       "    <tr style=\"text-align: right;\">\n",
       "      <th></th>\n",
       "      <th>Disease</th>\n",
       "      <th>Fever</th>\n",
       "      <th>Cough</th>\n",
       "      <th>Fatigue</th>\n",
       "      <th>Difficulty Breathing</th>\n",
       "      <th>Age</th>\n",
       "      <th>Gender</th>\n",
       "      <th>Blood Pressure</th>\n",
       "      <th>Cholesterol Level</th>\n",
       "      <th>Outcome Variable</th>\n",
       "    </tr>\n",
       "  </thead>\n",
       "  <tbody>\n",
       "    <tr>\n",
       "      <th>4</th>\n",
       "      <td>Asthma</td>\n",
       "      <td>Yes</td>\n",
       "      <td>Yes</td>\n",
       "      <td>No</td>\n",
       "      <td>Yes</td>\n",
       "      <td>25</td>\n",
       "      <td>Male</td>\n",
       "      <td>Normal</td>\n",
       "      <td>Normal</td>\n",
       "      <td>Positive</td>\n",
       "    </tr>\n",
       "    <tr>\n",
       "      <th>7</th>\n",
       "      <td>Influenza</td>\n",
       "      <td>Yes</td>\n",
       "      <td>Yes</td>\n",
       "      <td>Yes</td>\n",
       "      <td>Yes</td>\n",
       "      <td>25</td>\n",
       "      <td>Female</td>\n",
       "      <td>Normal</td>\n",
       "      <td>Normal</td>\n",
       "      <td>Positive</td>\n",
       "    </tr>\n",
       "    <tr>\n",
       "      <th>9</th>\n",
       "      <td>Hyperthyroidism</td>\n",
       "      <td>No</td>\n",
       "      <td>Yes</td>\n",
       "      <td>No</td>\n",
       "      <td>No</td>\n",
       "      <td>28</td>\n",
       "      <td>Female</td>\n",
       "      <td>Normal</td>\n",
       "      <td>Normal</td>\n",
       "      <td>Negative</td>\n",
       "    </tr>\n",
       "    <tr>\n",
       "      <th>23</th>\n",
       "      <td>Dengue Fever</td>\n",
       "      <td>Yes</td>\n",
       "      <td>No</td>\n",
       "      <td>Yes</td>\n",
       "      <td>No</td>\n",
       "      <td>30</td>\n",
       "      <td>Female</td>\n",
       "      <td>Normal</td>\n",
       "      <td>Normal</td>\n",
       "      <td>Negative</td>\n",
       "    </tr>\n",
       "    <tr>\n",
       "      <th>35</th>\n",
       "      <td>Asthma</td>\n",
       "      <td>Yes</td>\n",
       "      <td>Yes</td>\n",
       "      <td>No</td>\n",
       "      <td>Yes</td>\n",
       "      <td>30</td>\n",
       "      <td>Female</td>\n",
       "      <td>Normal</td>\n",
       "      <td>Normal</td>\n",
       "      <td>Positive</td>\n",
       "    </tr>\n",
       "    <tr>\n",
       "      <th>40</th>\n",
       "      <td>Bronchitis</td>\n",
       "      <td>Yes</td>\n",
       "      <td>Yes</td>\n",
       "      <td>Yes</td>\n",
       "      <td>Yes</td>\n",
       "      <td>30</td>\n",
       "      <td>Male</td>\n",
       "      <td>High</td>\n",
       "      <td>High</td>\n",
       "      <td>Positive</td>\n",
       "    </tr>\n",
       "    <tr>\n",
       "      <th>59</th>\n",
       "      <td>Asthma</td>\n",
       "      <td>No</td>\n",
       "      <td>Yes</td>\n",
       "      <td>Yes</td>\n",
       "      <td>Yes</td>\n",
       "      <td>35</td>\n",
       "      <td>Female</td>\n",
       "      <td>High</td>\n",
       "      <td>Normal</td>\n",
       "      <td>Negative</td>\n",
       "    </tr>\n",
       "    <tr>\n",
       "      <th>69</th>\n",
       "      <td>Pneumonia</td>\n",
       "      <td>Yes</td>\n",
       "      <td>Yes</td>\n",
       "      <td>Yes</td>\n",
       "      <td>Yes</td>\n",
       "      <td>35</td>\n",
       "      <td>Female</td>\n",
       "      <td>Normal</td>\n",
       "      <td>Normal</td>\n",
       "      <td>Negative</td>\n",
       "    </tr>\n",
       "    <tr>\n",
       "      <th>73</th>\n",
       "      <td>Rubella</td>\n",
       "      <td>Yes</td>\n",
       "      <td>No</td>\n",
       "      <td>Yes</td>\n",
       "      <td>No</td>\n",
       "      <td>35</td>\n",
       "      <td>Female</td>\n",
       "      <td>High</td>\n",
       "      <td>Normal</td>\n",
       "      <td>Negative</td>\n",
       "    </tr>\n",
       "    <tr>\n",
       "      <th>76</th>\n",
       "      <td>Asthma</td>\n",
       "      <td>Yes</td>\n",
       "      <td>Yes</td>\n",
       "      <td>No</td>\n",
       "      <td>Yes</td>\n",
       "      <td>35</td>\n",
       "      <td>Male</td>\n",
       "      <td>Normal</td>\n",
       "      <td>Normal</td>\n",
       "      <td>Positive</td>\n",
       "    </tr>\n",
       "    <tr>\n",
       "      <th>82</th>\n",
       "      <td>Hyperthyroidism</td>\n",
       "      <td>Yes</td>\n",
       "      <td>Yes</td>\n",
       "      <td>Yes</td>\n",
       "      <td>No</td>\n",
       "      <td>35</td>\n",
       "      <td>Male</td>\n",
       "      <td>High</td>\n",
       "      <td>High</td>\n",
       "      <td>Positive</td>\n",
       "    </tr>\n",
       "    <tr>\n",
       "      <th>87</th>\n",
       "      <td>Malaria</td>\n",
       "      <td>Yes</td>\n",
       "      <td>No</td>\n",
       "      <td>No</td>\n",
       "      <td>No</td>\n",
       "      <td>35</td>\n",
       "      <td>Male</td>\n",
       "      <td>High</td>\n",
       "      <td>High</td>\n",
       "      <td>Positive</td>\n",
       "    </tr>\n",
       "    <tr>\n",
       "      <th>120</th>\n",
       "      <td>Rabies</td>\n",
       "      <td>Yes</td>\n",
       "      <td>Yes</td>\n",
       "      <td>No</td>\n",
       "      <td>No</td>\n",
       "      <td>40</td>\n",
       "      <td>Female</td>\n",
       "      <td>High</td>\n",
       "      <td>Normal</td>\n",
       "      <td>Negative</td>\n",
       "    </tr>\n",
       "    <tr>\n",
       "      <th>123</th>\n",
       "      <td>Asthma</td>\n",
       "      <td>Yes</td>\n",
       "      <td>Yes</td>\n",
       "      <td>No</td>\n",
       "      <td>Yes</td>\n",
       "      <td>40</td>\n",
       "      <td>Female</td>\n",
       "      <td>Normal</td>\n",
       "      <td>Normal</td>\n",
       "      <td>Positive</td>\n",
       "    </tr>\n",
       "    <tr>\n",
       "      <th>126</th>\n",
       "      <td>Asthma</td>\n",
       "      <td>Yes</td>\n",
       "      <td>No</td>\n",
       "      <td>Yes</td>\n",
       "      <td>Yes</td>\n",
       "      <td>40</td>\n",
       "      <td>Male</td>\n",
       "      <td>Normal</td>\n",
       "      <td>High</td>\n",
       "      <td>Positive</td>\n",
       "    </tr>\n",
       "    <tr>\n",
       "      <th>128</th>\n",
       "      <td>Chickenpox</td>\n",
       "      <td>No</td>\n",
       "      <td>Yes</td>\n",
       "      <td>No</td>\n",
       "      <td>No</td>\n",
       "      <td>40</td>\n",
       "      <td>Male</td>\n",
       "      <td>Normal</td>\n",
       "      <td>High</td>\n",
       "      <td>Positive</td>\n",
       "    </tr>\n",
       "    <tr>\n",
       "      <th>142</th>\n",
       "      <td>Tuberculosis</td>\n",
       "      <td>Yes</td>\n",
       "      <td>Yes</td>\n",
       "      <td>Yes</td>\n",
       "      <td>Yes</td>\n",
       "      <td>40</td>\n",
       "      <td>Male</td>\n",
       "      <td>High</td>\n",
       "      <td>High</td>\n",
       "      <td>Positive</td>\n",
       "    </tr>\n",
       "    <tr>\n",
       "      <th>157</th>\n",
       "      <td>Hypothyroidism</td>\n",
       "      <td>Yes</td>\n",
       "      <td>Yes</td>\n",
       "      <td>Yes</td>\n",
       "      <td>No</td>\n",
       "      <td>42</td>\n",
       "      <td>Female</td>\n",
       "      <td>High</td>\n",
       "      <td>High</td>\n",
       "      <td>Positive</td>\n",
       "    </tr>\n",
       "    <tr>\n",
       "      <th>164</th>\n",
       "      <td>Hepatitis</td>\n",
       "      <td>Yes</td>\n",
       "      <td>No</td>\n",
       "      <td>Yes</td>\n",
       "      <td>No</td>\n",
       "      <td>45</td>\n",
       "      <td>Female</td>\n",
       "      <td>High</td>\n",
       "      <td>High</td>\n",
       "      <td>Negative</td>\n",
       "    </tr>\n",
       "    <tr>\n",
       "      <th>175</th>\n",
       "      <td>Turner Syndrome</td>\n",
       "      <td>No</td>\n",
       "      <td>No</td>\n",
       "      <td>Yes</td>\n",
       "      <td>No</td>\n",
       "      <td>45</td>\n",
       "      <td>Male</td>\n",
       "      <td>High</td>\n",
       "      <td>High</td>\n",
       "      <td>Negative</td>\n",
       "    </tr>\n",
       "    <tr>\n",
       "      <th>178</th>\n",
       "      <td>Zika Virus</td>\n",
       "      <td>No</td>\n",
       "      <td>Yes</td>\n",
       "      <td>Yes</td>\n",
       "      <td>No</td>\n",
       "      <td>45</td>\n",
       "      <td>Female</td>\n",
       "      <td>High</td>\n",
       "      <td>High</td>\n",
       "      <td>Negative</td>\n",
       "    </tr>\n",
       "    <tr>\n",
       "      <th>182</th>\n",
       "      <td>Asthma</td>\n",
       "      <td>Yes</td>\n",
       "      <td>Yes</td>\n",
       "      <td>No</td>\n",
       "      <td>Yes</td>\n",
       "      <td>45</td>\n",
       "      <td>Male</td>\n",
       "      <td>Normal</td>\n",
       "      <td>Normal</td>\n",
       "      <td>Positive</td>\n",
       "    </tr>\n",
       "    <tr>\n",
       "      <th>193</th>\n",
       "      <td>Multiple Sclerosis</td>\n",
       "      <td>Yes</td>\n",
       "      <td>No</td>\n",
       "      <td>No</td>\n",
       "      <td>No</td>\n",
       "      <td>45</td>\n",
       "      <td>Female</td>\n",
       "      <td>High</td>\n",
       "      <td>High</td>\n",
       "      <td>Positive</td>\n",
       "    </tr>\n",
       "    <tr>\n",
       "      <th>201</th>\n",
       "      <td>Tetanus</td>\n",
       "      <td>No</td>\n",
       "      <td>No</td>\n",
       "      <td>Yes</td>\n",
       "      <td>No</td>\n",
       "      <td>45</td>\n",
       "      <td>Male</td>\n",
       "      <td>Normal</td>\n",
       "      <td>High</td>\n",
       "      <td>Positive</td>\n",
       "    </tr>\n",
       "    <tr>\n",
       "      <th>204</th>\n",
       "      <td>Hypothyroidism</td>\n",
       "      <td>No</td>\n",
       "      <td>No</td>\n",
       "      <td>Yes</td>\n",
       "      <td>No</td>\n",
       "      <td>48</td>\n",
       "      <td>Male</td>\n",
       "      <td>Normal</td>\n",
       "      <td>High</td>\n",
       "      <td>Negative</td>\n",
       "    </tr>\n",
       "    <tr>\n",
       "      <th>209</th>\n",
       "      <td>Cholera</td>\n",
       "      <td>Yes</td>\n",
       "      <td>No</td>\n",
       "      <td>Yes</td>\n",
       "      <td>Yes</td>\n",
       "      <td>50</td>\n",
       "      <td>Female</td>\n",
       "      <td>High</td>\n",
       "      <td>High</td>\n",
       "      <td>Negative</td>\n",
       "    </tr>\n",
       "    <tr>\n",
       "      <th>228</th>\n",
       "      <td>Ebola Virus</td>\n",
       "      <td>Yes</td>\n",
       "      <td>Yes</td>\n",
       "      <td>Yes</td>\n",
       "      <td>Yes</td>\n",
       "      <td>50</td>\n",
       "      <td>Male</td>\n",
       "      <td>Normal</td>\n",
       "      <td>Normal</td>\n",
       "      <td>Positive</td>\n",
       "    </tr>\n",
       "    <tr>\n",
       "      <th>234</th>\n",
       "      <td>Lyme Disease</td>\n",
       "      <td>Yes</td>\n",
       "      <td>No</td>\n",
       "      <td>No</td>\n",
       "      <td>No</td>\n",
       "      <td>50</td>\n",
       "      <td>Male</td>\n",
       "      <td>Normal</td>\n",
       "      <td>High</td>\n",
       "      <td>Positive</td>\n",
       "    </tr>\n",
       "    <tr>\n",
       "      <th>241</th>\n",
       "      <td>Multiple Sclerosis</td>\n",
       "      <td>No</td>\n",
       "      <td>Yes</td>\n",
       "      <td>Yes</td>\n",
       "      <td>No</td>\n",
       "      <td>52</td>\n",
       "      <td>Male</td>\n",
       "      <td>Normal</td>\n",
       "      <td>Normal</td>\n",
       "      <td>Negative</td>\n",
       "    </tr>\n",
       "    <tr>\n",
       "      <th>249</th>\n",
       "      <td>HIV/AIDS</td>\n",
       "      <td>Yes</td>\n",
       "      <td>No</td>\n",
       "      <td>No</td>\n",
       "      <td>No</td>\n",
       "      <td>55</td>\n",
       "      <td>Female</td>\n",
       "      <td>High</td>\n",
       "      <td>High</td>\n",
       "      <td>Negative</td>\n",
       "    </tr>\n",
       "    <tr>\n",
       "      <th>256</th>\n",
       "      <td>Parkinson's Disease</td>\n",
       "      <td>No</td>\n",
       "      <td>No</td>\n",
       "      <td>Yes</td>\n",
       "      <td>No</td>\n",
       "      <td>55</td>\n",
       "      <td>Female</td>\n",
       "      <td>Normal</td>\n",
       "      <td>Low</td>\n",
       "      <td>Negative</td>\n",
       "    </tr>\n",
       "    <tr>\n",
       "      <th>259</th>\n",
       "      <td>Coronary Artery Disease</td>\n",
       "      <td>No</td>\n",
       "      <td>No</td>\n",
       "      <td>Yes</td>\n",
       "      <td>No</td>\n",
       "      <td>55</td>\n",
       "      <td>Female</td>\n",
       "      <td>Normal</td>\n",
       "      <td>Normal</td>\n",
       "      <td>Positive</td>\n",
       "    </tr>\n",
       "    <tr>\n",
       "      <th>267</th>\n",
       "      <td>Osteoporosis</td>\n",
       "      <td>Yes</td>\n",
       "      <td>No</td>\n",
       "      <td>Yes</td>\n",
       "      <td>No</td>\n",
       "      <td>55</td>\n",
       "      <td>Female</td>\n",
       "      <td>Normal</td>\n",
       "      <td>Normal</td>\n",
       "      <td>Positive</td>\n",
       "    </tr>\n",
       "    <tr>\n",
       "      <th>271</th>\n",
       "      <td>Typhoid Fever</td>\n",
       "      <td>No</td>\n",
       "      <td>Yes</td>\n",
       "      <td>No</td>\n",
       "      <td>No</td>\n",
       "      <td>55</td>\n",
       "      <td>Male</td>\n",
       "      <td>Normal</td>\n",
       "      <td>Low</td>\n",
       "      <td>Positive</td>\n",
       "    </tr>\n",
       "    <tr>\n",
       "      <th>276</th>\n",
       "      <td>Coronary Artery Disease</td>\n",
       "      <td>Yes</td>\n",
       "      <td>Yes</td>\n",
       "      <td>No</td>\n",
       "      <td>No</td>\n",
       "      <td>60</td>\n",
       "      <td>Male</td>\n",
       "      <td>High</td>\n",
       "      <td>High</td>\n",
       "      <td>Negative</td>\n",
       "    </tr>\n",
       "    <tr>\n",
       "      <th>279</th>\n",
       "      <td>Measles</td>\n",
       "      <td>Yes</td>\n",
       "      <td>Yes</td>\n",
       "      <td>No</td>\n",
       "      <td>No</td>\n",
       "      <td>60</td>\n",
       "      <td>Female</td>\n",
       "      <td>High</td>\n",
       "      <td>Normal</td>\n",
       "      <td>Negative</td>\n",
       "    </tr>\n",
       "    <tr>\n",
       "      <th>284</th>\n",
       "      <td>Osteoporosis</td>\n",
       "      <td>No</td>\n",
       "      <td>Yes</td>\n",
       "      <td>No</td>\n",
       "      <td>No</td>\n",
       "      <td>60</td>\n",
       "      <td>Male</td>\n",
       "      <td>High</td>\n",
       "      <td>High</td>\n",
       "      <td>Negative</td>\n",
       "    </tr>\n",
       "    <tr>\n",
       "      <th>290</th>\n",
       "      <td>Hepatitis B</td>\n",
       "      <td>No</td>\n",
       "      <td>Yes</td>\n",
       "      <td>Yes</td>\n",
       "      <td>No</td>\n",
       "      <td>60</td>\n",
       "      <td>Male</td>\n",
       "      <td>Normal</td>\n",
       "      <td>Low</td>\n",
       "      <td>Positive</td>\n",
       "    </tr>\n",
       "    <tr>\n",
       "      <th>299</th>\n",
       "      <td>Parkinson's Disease</td>\n",
       "      <td>Yes</td>\n",
       "      <td>Yes</td>\n",
       "      <td>No</td>\n",
       "      <td>No</td>\n",
       "      <td>60</td>\n",
       "      <td>Male</td>\n",
       "      <td>High</td>\n",
       "      <td>Normal</td>\n",
       "      <td>Positive</td>\n",
       "    </tr>\n",
       "    <tr>\n",
       "      <th>308</th>\n",
       "      <td>Stroke</td>\n",
       "      <td>Yes</td>\n",
       "      <td>No</td>\n",
       "      <td>Yes</td>\n",
       "      <td>No</td>\n",
       "      <td>65</td>\n",
       "      <td>Female</td>\n",
       "      <td>High</td>\n",
       "      <td>Low</td>\n",
       "      <td>Negative</td>\n",
       "    </tr>\n",
       "    <tr>\n",
       "      <th>312</th>\n",
       "      <td>Alzheimer's Disease</td>\n",
       "      <td>No</td>\n",
       "      <td>Yes</td>\n",
       "      <td>No</td>\n",
       "      <td>No</td>\n",
       "      <td>65</td>\n",
       "      <td>Male</td>\n",
       "      <td>Normal</td>\n",
       "      <td>High</td>\n",
       "      <td>Positive</td>\n",
       "    </tr>\n",
       "    <tr>\n",
       "      <th>316</th>\n",
       "      <td>Chronic Obstructive Pulmonary Disease (COPD)</td>\n",
       "      <td>Yes</td>\n",
       "      <td>No</td>\n",
       "      <td>Yes</td>\n",
       "      <td>Yes</td>\n",
       "      <td>65</td>\n",
       "      <td>Female</td>\n",
       "      <td>High</td>\n",
       "      <td>High</td>\n",
       "      <td>Positive</td>\n",
       "    </tr>\n",
       "    <tr>\n",
       "      <th>324</th>\n",
       "      <td>Mumps</td>\n",
       "      <td>No</td>\n",
       "      <td>No</td>\n",
       "      <td>Yes</td>\n",
       "      <td>No</td>\n",
       "      <td>65</td>\n",
       "      <td>Male</td>\n",
       "      <td>Normal</td>\n",
       "      <td>High</td>\n",
       "      <td>Positive</td>\n",
       "    </tr>\n",
       "    <tr>\n",
       "      <th>328</th>\n",
       "      <td>Alzheimer's Disease</td>\n",
       "      <td>Yes</td>\n",
       "      <td>No</td>\n",
       "      <td>Yes</td>\n",
       "      <td>No</td>\n",
       "      <td>70</td>\n",
       "      <td>Female</td>\n",
       "      <td>High</td>\n",
       "      <td>Normal</td>\n",
       "      <td>Negative</td>\n",
       "    </tr>\n",
       "    <tr>\n",
       "      <th>331</th>\n",
       "      <td>Chronic Obstructive Pulmonary Disease (COPD)</td>\n",
       "      <td>No</td>\n",
       "      <td>Yes</td>\n",
       "      <td>Yes</td>\n",
       "      <td>Yes</td>\n",
       "      <td>70</td>\n",
       "      <td>Male</td>\n",
       "      <td>Normal</td>\n",
       "      <td>High</td>\n",
       "      <td>Negative</td>\n",
       "    </tr>\n",
       "    <tr>\n",
       "      <th>339</th>\n",
       "      <td>Stroke</td>\n",
       "      <td>No</td>\n",
       "      <td>Yes</td>\n",
       "      <td>No</td>\n",
       "      <td>No</td>\n",
       "      <td>70</td>\n",
       "      <td>Male</td>\n",
       "      <td>Normal</td>\n",
       "      <td>High</td>\n",
       "      <td>Positive</td>\n",
       "    </tr>\n",
       "    <tr>\n",
       "      <th>344</th>\n",
       "      <td>Stroke</td>\n",
       "      <td>Yes</td>\n",
       "      <td>No</td>\n",
       "      <td>Yes</td>\n",
       "      <td>No</td>\n",
       "      <td>80</td>\n",
       "      <td>Female</td>\n",
       "      <td>High</td>\n",
       "      <td>High</td>\n",
       "      <td>Positive</td>\n",
       "    </tr>\n",
       "    <tr>\n",
       "      <th>346</th>\n",
       "      <td>Stroke</td>\n",
       "      <td>Yes</td>\n",
       "      <td>No</td>\n",
       "      <td>Yes</td>\n",
       "      <td>No</td>\n",
       "      <td>85</td>\n",
       "      <td>Male</td>\n",
       "      <td>High</td>\n",
       "      <td>High</td>\n",
       "      <td>Positive</td>\n",
       "    </tr>\n",
       "    <tr>\n",
       "      <th>348</th>\n",
       "      <td>Stroke</td>\n",
       "      <td>Yes</td>\n",
       "      <td>No</td>\n",
       "      <td>Yes</td>\n",
       "      <td>No</td>\n",
       "      <td>90</td>\n",
       "      <td>Female</td>\n",
       "      <td>High</td>\n",
       "      <td>High</td>\n",
       "      <td>Positive</td>\n",
       "    </tr>\n",
       "  </tbody>\n",
       "</table>\n",
       "</div>"
      ],
      "text/plain": [
       "                                          Disease Fever Cough Fatigue  \\\n",
       "4                                          Asthma   Yes   Yes      No   \n",
       "7                                       Influenza   Yes   Yes     Yes   \n",
       "9                                 Hyperthyroidism    No   Yes      No   \n",
       "23                                   Dengue Fever   Yes    No     Yes   \n",
       "35                                         Asthma   Yes   Yes      No   \n",
       "40                                     Bronchitis   Yes   Yes     Yes   \n",
       "59                                         Asthma    No   Yes     Yes   \n",
       "69                                      Pneumonia   Yes   Yes     Yes   \n",
       "73                                        Rubella   Yes    No     Yes   \n",
       "76                                         Asthma   Yes   Yes      No   \n",
       "82                                Hyperthyroidism   Yes   Yes     Yes   \n",
       "87                                        Malaria   Yes    No      No   \n",
       "120                                        Rabies   Yes   Yes      No   \n",
       "123                                        Asthma   Yes   Yes      No   \n",
       "126                                        Asthma   Yes    No     Yes   \n",
       "128                                    Chickenpox    No   Yes      No   \n",
       "142                                  Tuberculosis   Yes   Yes     Yes   \n",
       "157                                Hypothyroidism   Yes   Yes     Yes   \n",
       "164                                     Hepatitis   Yes    No     Yes   \n",
       "175                               Turner Syndrome    No    No     Yes   \n",
       "178                                    Zika Virus    No   Yes     Yes   \n",
       "182                                        Asthma   Yes   Yes      No   \n",
       "193                            Multiple Sclerosis   Yes    No      No   \n",
       "201                                       Tetanus    No    No     Yes   \n",
       "204                                Hypothyroidism    No    No     Yes   \n",
       "209                                       Cholera   Yes    No     Yes   \n",
       "228                                   Ebola Virus   Yes   Yes     Yes   \n",
       "234                                  Lyme Disease   Yes    No      No   \n",
       "241                            Multiple Sclerosis    No   Yes     Yes   \n",
       "249                                      HIV/AIDS   Yes    No      No   \n",
       "256                           Parkinson's Disease    No    No     Yes   \n",
       "259                       Coronary Artery Disease    No    No     Yes   \n",
       "267                                  Osteoporosis   Yes    No     Yes   \n",
       "271                                 Typhoid Fever    No   Yes      No   \n",
       "276                       Coronary Artery Disease   Yes   Yes      No   \n",
       "279                                       Measles   Yes   Yes      No   \n",
       "284                                  Osteoporosis    No   Yes      No   \n",
       "290                                   Hepatitis B    No   Yes     Yes   \n",
       "299                           Parkinson's Disease   Yes   Yes      No   \n",
       "308                                        Stroke   Yes    No     Yes   \n",
       "312                           Alzheimer's Disease    No   Yes      No   \n",
       "316  Chronic Obstructive Pulmonary Disease (COPD)   Yes    No     Yes   \n",
       "324                                         Mumps    No    No     Yes   \n",
       "328                           Alzheimer's Disease   Yes    No     Yes   \n",
       "331  Chronic Obstructive Pulmonary Disease (COPD)    No   Yes     Yes   \n",
       "339                                        Stroke    No   Yes      No   \n",
       "344                                        Stroke   Yes    No     Yes   \n",
       "346                                        Stroke   Yes    No     Yes   \n",
       "348                                        Stroke   Yes    No     Yes   \n",
       "\n",
       "    Difficulty Breathing  Age  Gender Blood Pressure Cholesterol Level  \\\n",
       "4                    Yes   25    Male         Normal            Normal   \n",
       "7                    Yes   25  Female         Normal            Normal   \n",
       "9                     No   28  Female         Normal            Normal   \n",
       "23                    No   30  Female         Normal            Normal   \n",
       "35                   Yes   30  Female         Normal            Normal   \n",
       "40                   Yes   30    Male           High              High   \n",
       "59                   Yes   35  Female           High            Normal   \n",
       "69                   Yes   35  Female         Normal            Normal   \n",
       "73                    No   35  Female           High            Normal   \n",
       "76                   Yes   35    Male         Normal            Normal   \n",
       "82                    No   35    Male           High              High   \n",
       "87                    No   35    Male           High              High   \n",
       "120                   No   40  Female           High            Normal   \n",
       "123                  Yes   40  Female         Normal            Normal   \n",
       "126                  Yes   40    Male         Normal              High   \n",
       "128                   No   40    Male         Normal              High   \n",
       "142                  Yes   40    Male           High              High   \n",
       "157                   No   42  Female           High              High   \n",
       "164                   No   45  Female           High              High   \n",
       "175                   No   45    Male           High              High   \n",
       "178                   No   45  Female           High              High   \n",
       "182                  Yes   45    Male         Normal            Normal   \n",
       "193                   No   45  Female           High              High   \n",
       "201                   No   45    Male         Normal              High   \n",
       "204                   No   48    Male         Normal              High   \n",
       "209                  Yes   50  Female           High              High   \n",
       "228                  Yes   50    Male         Normal            Normal   \n",
       "234                   No   50    Male         Normal              High   \n",
       "241                   No   52    Male         Normal            Normal   \n",
       "249                   No   55  Female           High              High   \n",
       "256                   No   55  Female         Normal               Low   \n",
       "259                   No   55  Female         Normal            Normal   \n",
       "267                   No   55  Female         Normal            Normal   \n",
       "271                   No   55    Male         Normal               Low   \n",
       "276                   No   60    Male           High              High   \n",
       "279                   No   60  Female           High            Normal   \n",
       "284                   No   60    Male           High              High   \n",
       "290                   No   60    Male         Normal               Low   \n",
       "299                   No   60    Male           High            Normal   \n",
       "308                   No   65  Female           High               Low   \n",
       "312                   No   65    Male         Normal              High   \n",
       "316                  Yes   65  Female           High              High   \n",
       "324                   No   65    Male         Normal              High   \n",
       "328                   No   70  Female           High            Normal   \n",
       "331                  Yes   70    Male         Normal              High   \n",
       "339                   No   70    Male         Normal              High   \n",
       "344                   No   80  Female           High              High   \n",
       "346                   No   85    Male           High              High   \n",
       "348                   No   90  Female           High              High   \n",
       "\n",
       "    Outcome Variable  \n",
       "4           Positive  \n",
       "7           Positive  \n",
       "9           Negative  \n",
       "23          Negative  \n",
       "35          Positive  \n",
       "40          Positive  \n",
       "59          Negative  \n",
       "69          Negative  \n",
       "73          Negative  \n",
       "76          Positive  \n",
       "82          Positive  \n",
       "87          Positive  \n",
       "120         Negative  \n",
       "123         Positive  \n",
       "126         Positive  \n",
       "128         Positive  \n",
       "142         Positive  \n",
       "157         Positive  \n",
       "164         Negative  \n",
       "175         Negative  \n",
       "178         Negative  \n",
       "182         Positive  \n",
       "193         Positive  \n",
       "201         Positive  \n",
       "204         Negative  \n",
       "209         Negative  \n",
       "228         Positive  \n",
       "234         Positive  \n",
       "241         Negative  \n",
       "249         Negative  \n",
       "256         Negative  \n",
       "259         Positive  \n",
       "267         Positive  \n",
       "271         Positive  \n",
       "276         Negative  \n",
       "279         Negative  \n",
       "284         Negative  \n",
       "290         Positive  \n",
       "299         Positive  \n",
       "308         Negative  \n",
       "312         Positive  \n",
       "316         Positive  \n",
       "324         Positive  \n",
       "328         Negative  \n",
       "331         Negative  \n",
       "339         Positive  \n",
       "344         Positive  \n",
       "346         Positive  \n",
       "348         Positive  "
      ]
     },
     "execution_count": 13,
     "metadata": {},
     "output_type": "execute_result"
    }
   ],
   "source": [
    "df.loc[df.duplicated()]"
   ]
  },
  {
   "cell_type": "markdown",
   "id": "064f4904",
   "metadata": {},
   "source": [
    "As we can see at first glance, while the `df.duplicated()` filter reports the rows which have duplicate values in the 'True' or 'False' columns, these patients are actually not duplicates because the age and the disease are always different. This is the reason why we are not going to filter out these values, but keep them as unique values since the 'Age' and 'Disease' columns are always different."
   ]
  },
  {
   "cell_type": "markdown",
   "id": "a6544cb5",
   "metadata": {},
   "source": [
    "We will plot now explore each one of the columns to get a sense of the distribution of their values.\n",
    "<br>We will first look at the columns that have more than just 2 values and their distribution, and then we will move on to the columns with only 2 or 3 variables (all the true or false, and the 'Blood Pressure' and 'Cholesterol')."
   ]
  },
  {
   "cell_type": "markdown",
   "id": "5decac5e",
   "metadata": {},
   "source": [
    "First let use look at how many different diseases we are looking at and their frequency:"
   ]
  },
  {
   "cell_type": "code",
   "execution_count": 43,
   "id": "ade081b8",
   "metadata": {},
   "outputs": [
    {
     "data": {
      "text/plain": [
       "Asthma              0.065903\n",
       "Stroke              0.045845\n",
       "Osteoporosis        0.040115\n",
       "Hypertension        0.028653\n",
       "Diabetes            0.028653\n",
       "                      ...   \n",
       "Bladder Cancer      0.002865\n",
       "Hemorrhoids         0.002865\n",
       "Bipolar Disorder    0.002865\n",
       "Osteomyelitis       0.002865\n",
       "Cirrhosis           0.002865\n",
       "Name: Disease, Length: 116, dtype: float64"
      ]
     },
     "execution_count": 43,
     "metadata": {},
     "output_type": "execute_result"
    }
   ],
   "source": [
    "y=df['Disease']\n",
    "y.value_counts(normalize=True)"
   ]
  },
  {
   "cell_type": "code",
   "execution_count": 45,
   "id": "2a12e2fc",
   "metadata": {},
   "outputs": [
    {
     "data": {
      "text/plain": [
       "Asthma              23\n",
       "Stroke              16\n",
       "Osteoporosis        14\n",
       "Hypertension        10\n",
       "Diabetes            10\n",
       "                    ..\n",
       "Bladder Cancer       1\n",
       "Hemorrhoids          1\n",
       "Bipolar Disorder     1\n",
       "Osteomyelitis        1\n",
       "Cirrhosis            1\n",
       "Name: Disease, Length: 116, dtype: int64"
      ]
     },
     "execution_count": 45,
     "metadata": {},
     "output_type": "execute_result"
    }
   ],
   "source": [
    "y=df['Disease']\n",
    "y.value_counts()"
   ]
  },
  {
   "cell_type": "markdown",
   "id": "44d151e9",
   "metadata": {},
   "source": [
    "This is a very important information so we will create a special column to indicate this, since we will need to do some manipulation on it."
   ]
  },
  {
   "cell_type": "code",
   "execution_count": 49,
   "id": "fbacc121",
   "metadata": {},
   "outputs": [],
   "source": [
    "count_freq = dict(df['Disease'].value_counts())"
   ]
  },
  {
   "cell_type": "code",
   "execution_count": 50,
   "id": "6818a53c",
   "metadata": {},
   "outputs": [],
   "source": [
    "df['count_freq'] = df['Disease']\n",
    "df['count_freq'] = df['count_freq'].map(count_freq)"
   ]
  },
  {
   "cell_type": "code",
   "execution_count": 51,
   "id": "154ff4ee",
   "metadata": {},
   "outputs": [
    {
     "data": {
      "text/html": [
       "<div>\n",
       "<style scoped>\n",
       "    .dataframe tbody tr th:only-of-type {\n",
       "        vertical-align: middle;\n",
       "    }\n",
       "\n",
       "    .dataframe tbody tr th {\n",
       "        vertical-align: top;\n",
       "    }\n",
       "\n",
       "    .dataframe thead th {\n",
       "        text-align: right;\n",
       "    }\n",
       "</style>\n",
       "<table border=\"1\" class=\"dataframe\">\n",
       "  <thead>\n",
       "    <tr style=\"text-align: right;\">\n",
       "      <th></th>\n",
       "      <th>Disease</th>\n",
       "      <th>Fever</th>\n",
       "      <th>Cough</th>\n",
       "      <th>Fatigue</th>\n",
       "      <th>Difficulty Breathing</th>\n",
       "      <th>Age</th>\n",
       "      <th>Gender</th>\n",
       "      <th>Blood Pressure</th>\n",
       "      <th>Cholesterol Level</th>\n",
       "      <th>Outcome Variable</th>\n",
       "      <th>count_freq</th>\n",
       "    </tr>\n",
       "  </thead>\n",
       "  <tbody>\n",
       "    <tr>\n",
       "      <th>0</th>\n",
       "      <td>Influenza</td>\n",
       "      <td>Yes</td>\n",
       "      <td>No</td>\n",
       "      <td>Yes</td>\n",
       "      <td>Yes</td>\n",
       "      <td>19</td>\n",
       "      <td>Female</td>\n",
       "      <td>Low</td>\n",
       "      <td>Normal</td>\n",
       "      <td>Positive</td>\n",
       "      <td>8</td>\n",
       "    </tr>\n",
       "    <tr>\n",
       "      <th>1</th>\n",
       "      <td>Common Cold</td>\n",
       "      <td>No</td>\n",
       "      <td>Yes</td>\n",
       "      <td>Yes</td>\n",
       "      <td>No</td>\n",
       "      <td>25</td>\n",
       "      <td>Female</td>\n",
       "      <td>Normal</td>\n",
       "      <td>Normal</td>\n",
       "      <td>Negative</td>\n",
       "      <td>6</td>\n",
       "    </tr>\n",
       "    <tr>\n",
       "      <th>2</th>\n",
       "      <td>Eczema</td>\n",
       "      <td>No</td>\n",
       "      <td>Yes</td>\n",
       "      <td>Yes</td>\n",
       "      <td>No</td>\n",
       "      <td>25</td>\n",
       "      <td>Female</td>\n",
       "      <td>Normal</td>\n",
       "      <td>Normal</td>\n",
       "      <td>Negative</td>\n",
       "      <td>6</td>\n",
       "    </tr>\n",
       "    <tr>\n",
       "      <th>3</th>\n",
       "      <td>Asthma</td>\n",
       "      <td>Yes</td>\n",
       "      <td>Yes</td>\n",
       "      <td>No</td>\n",
       "      <td>Yes</td>\n",
       "      <td>25</td>\n",
       "      <td>Male</td>\n",
       "      <td>Normal</td>\n",
       "      <td>Normal</td>\n",
       "      <td>Positive</td>\n",
       "      <td>23</td>\n",
       "    </tr>\n",
       "    <tr>\n",
       "      <th>4</th>\n",
       "      <td>Asthma</td>\n",
       "      <td>Yes</td>\n",
       "      <td>Yes</td>\n",
       "      <td>No</td>\n",
       "      <td>Yes</td>\n",
       "      <td>25</td>\n",
       "      <td>Male</td>\n",
       "      <td>Normal</td>\n",
       "      <td>Normal</td>\n",
       "      <td>Positive</td>\n",
       "      <td>23</td>\n",
       "    </tr>\n",
       "    <tr>\n",
       "      <th>...</th>\n",
       "      <td>...</td>\n",
       "      <td>...</td>\n",
       "      <td>...</td>\n",
       "      <td>...</td>\n",
       "      <td>...</td>\n",
       "      <td>...</td>\n",
       "      <td>...</td>\n",
       "      <td>...</td>\n",
       "      <td>...</td>\n",
       "      <td>...</td>\n",
       "      <td>...</td>\n",
       "    </tr>\n",
       "    <tr>\n",
       "      <th>344</th>\n",
       "      <td>Stroke</td>\n",
       "      <td>Yes</td>\n",
       "      <td>No</td>\n",
       "      <td>Yes</td>\n",
       "      <td>No</td>\n",
       "      <td>80</td>\n",
       "      <td>Female</td>\n",
       "      <td>High</td>\n",
       "      <td>High</td>\n",
       "      <td>Positive</td>\n",
       "      <td>16</td>\n",
       "    </tr>\n",
       "    <tr>\n",
       "      <th>345</th>\n",
       "      <td>Stroke</td>\n",
       "      <td>Yes</td>\n",
       "      <td>No</td>\n",
       "      <td>Yes</td>\n",
       "      <td>No</td>\n",
       "      <td>85</td>\n",
       "      <td>Male</td>\n",
       "      <td>High</td>\n",
       "      <td>High</td>\n",
       "      <td>Positive</td>\n",
       "      <td>16</td>\n",
       "    </tr>\n",
       "    <tr>\n",
       "      <th>346</th>\n",
       "      <td>Stroke</td>\n",
       "      <td>Yes</td>\n",
       "      <td>No</td>\n",
       "      <td>Yes</td>\n",
       "      <td>No</td>\n",
       "      <td>85</td>\n",
       "      <td>Male</td>\n",
       "      <td>High</td>\n",
       "      <td>High</td>\n",
       "      <td>Positive</td>\n",
       "      <td>16</td>\n",
       "    </tr>\n",
       "    <tr>\n",
       "      <th>347</th>\n",
       "      <td>Stroke</td>\n",
       "      <td>Yes</td>\n",
       "      <td>No</td>\n",
       "      <td>Yes</td>\n",
       "      <td>No</td>\n",
       "      <td>90</td>\n",
       "      <td>Female</td>\n",
       "      <td>High</td>\n",
       "      <td>High</td>\n",
       "      <td>Positive</td>\n",
       "      <td>16</td>\n",
       "    </tr>\n",
       "    <tr>\n",
       "      <th>348</th>\n",
       "      <td>Stroke</td>\n",
       "      <td>Yes</td>\n",
       "      <td>No</td>\n",
       "      <td>Yes</td>\n",
       "      <td>No</td>\n",
       "      <td>90</td>\n",
       "      <td>Female</td>\n",
       "      <td>High</td>\n",
       "      <td>High</td>\n",
       "      <td>Positive</td>\n",
       "      <td>16</td>\n",
       "    </tr>\n",
       "  </tbody>\n",
       "</table>\n",
       "<p>349 rows × 11 columns</p>\n",
       "</div>"
      ],
      "text/plain": [
       "         Disease Fever Cough Fatigue Difficulty Breathing  Age  Gender  \\\n",
       "0      Influenza   Yes    No     Yes                  Yes   19  Female   \n",
       "1    Common Cold    No   Yes     Yes                   No   25  Female   \n",
       "2         Eczema    No   Yes     Yes                   No   25  Female   \n",
       "3         Asthma   Yes   Yes      No                  Yes   25    Male   \n",
       "4         Asthma   Yes   Yes      No                  Yes   25    Male   \n",
       "..           ...   ...   ...     ...                  ...  ...     ...   \n",
       "344       Stroke   Yes    No     Yes                   No   80  Female   \n",
       "345       Stroke   Yes    No     Yes                   No   85    Male   \n",
       "346       Stroke   Yes    No     Yes                   No   85    Male   \n",
       "347       Stroke   Yes    No     Yes                   No   90  Female   \n",
       "348       Stroke   Yes    No     Yes                   No   90  Female   \n",
       "\n",
       "    Blood Pressure Cholesterol Level Outcome Variable  count_freq  \n",
       "0              Low            Normal         Positive           8  \n",
       "1           Normal            Normal         Negative           6  \n",
       "2           Normal            Normal         Negative           6  \n",
       "3           Normal            Normal         Positive          23  \n",
       "4           Normal            Normal         Positive          23  \n",
       "..             ...               ...              ...         ...  \n",
       "344           High              High         Positive          16  \n",
       "345           High              High         Positive          16  \n",
       "346           High              High         Positive          16  \n",
       "347           High              High         Positive          16  \n",
       "348           High              High         Positive          16  \n",
       "\n",
       "[349 rows x 11 columns]"
      ]
     },
     "execution_count": 51,
     "metadata": {},
     "output_type": "execute_result"
    }
   ],
   "source": [
    "df"
   ]
  },
  {
   "cell_type": "markdown",
   "id": "425704c9",
   "metadata": {},
   "source": [
    "Now let us preview all the frequencies:"
   ]
  },
  {
   "cell_type": "code",
   "execution_count": 53,
   "id": "6b3b5367",
   "metadata": {},
   "outputs": [
    {
     "data": {
      "text/plain": [
       "{'Asthma': 23,\n",
       " 'Stroke': 16,\n",
       " 'Osteoporosis': 14,\n",
       " 'Hypertension': 10,\n",
       " 'Diabetes': 10,\n",
       " 'Migraine': 10,\n",
       " 'Pneumonia': 8,\n",
       " 'Influenza': 8,\n",
       " 'Bronchitis': 8,\n",
       " 'Hypothyroidism': 7,\n",
       " 'Hyperthyroidism': 7,\n",
       " 'Common Cold': 6,\n",
       " 'Anxiety Disorders': 6,\n",
       " 'Liver Cancer': 6,\n",
       " 'Eczema': 6,\n",
       " 'Allergic Rhinitis': 6,\n",
       " 'Depression': 6,\n",
       " 'Osteoarthritis': 6,\n",
       " 'Gastroenteritis': 6,\n",
       " 'Rheumatoid Arthritis': 6,\n",
       " 'Kidney Cancer': 6,\n",
       " \"Parkinson's Disease\": 5,\n",
       " \"Crohn's Disease\": 5,\n",
       " 'Psoriasis': 5,\n",
       " \"Alzheimer's Disease\": 5,\n",
       " 'Kidney Disease': 5,\n",
       " 'Multiple Sclerosis': 5,\n",
       " 'Liver Disease': 5,\n",
       " 'Pancreatitis': 5,\n",
       " 'Urinary Tract Infection': 5,\n",
       " 'Ulcerative Colitis': 5,\n",
       " 'Coronary Artery Disease': 5,\n",
       " 'Chronic Obstructive Pulmonary Disease (COPD)': 4,\n",
       " 'Tuberculosis': 3,\n",
       " 'Hepatitis': 3,\n",
       " 'Urinary Tract Infection (UTI)': 3,\n",
       " 'Lung Cancer': 3,\n",
       " 'Rubella': 2,\n",
       " 'Dengue Fever': 2,\n",
       " 'Hepatitis B': 2,\n",
       " 'Lyme Disease': 2,\n",
       " 'Malaria': 2,\n",
       " 'Cholera': 2,\n",
       " 'Tetanus': 2,\n",
       " 'Chickenpox': 2,\n",
       " 'Typhoid Fever': 2,\n",
       " 'Turner Syndrome': 2,\n",
       " 'Zika Virus': 2,\n",
       " 'HIV/AIDS': 2,\n",
       " 'Measles': 2,\n",
       " 'Ebola Virus': 2,\n",
       " 'Mumps': 2,\n",
       " 'Hemophilia': 2,\n",
       " 'Klinefelter Syndrome': 2,\n",
       " 'Rabies': 2,\n",
       " 'Appendicitis': 1,\n",
       " 'Autism Spectrum Disorder (ASD)': 1,\n",
       " 'Cholecystitis': 1,\n",
       " 'Myocardial Infarction (Heart...': 1,\n",
       " 'Endometriosis': 1,\n",
       " 'Obsessive-Compulsive Disorde...': 1,\n",
       " 'Prostate Cancer': 1,\n",
       " 'Atherosclerosis': 1,\n",
       " 'Tonsillitis': 1,\n",
       " 'Breast Cancer': 1,\n",
       " 'Thyroid Cancer': 1,\n",
       " 'Hyperglycemia': 1,\n",
       " 'Systemic Lupus Erythematosus...': 1,\n",
       " 'Eating Disorders (Anorexia,...': 1,\n",
       " 'Marfan Syndrome': 1,\n",
       " 'Williams Syndrome': 1,\n",
       " 'Colorectal Cancer': 1,\n",
       " 'Pneumocystis Pneumonia (PCP)': 1,\n",
       " 'Tourette Syndrome': 1,\n",
       " 'Hypertensive Heart Disease': 1,\n",
       " 'Scoliosis': 1,\n",
       " 'Polio': 1,\n",
       " 'Pneumothorax': 1,\n",
       " 'Cystic Fibrosis': 1,\n",
       " 'Chronic Kidney Disease': 1,\n",
       " 'Ovarian Cancer': 1,\n",
       " 'Acne': 1,\n",
       " 'Pancreatic Cancer': 1,\n",
       " 'Esophageal Cancer': 1,\n",
       " 'Chronic Obstructive Pulmonary...': 1,\n",
       " 'Epilepsy': 1,\n",
       " 'Gout': 1,\n",
       " 'Brain Tumor': 1,\n",
       " 'Sepsis': 1,\n",
       " 'Sickle Cell Anemia': 1,\n",
       " 'Melanoma': 1,\n",
       " 'Cerebral Palsy': 1,\n",
       " 'Hypoglycemia': 1,\n",
       " 'Muscular Dystrophy': 1,\n",
       " 'Spina Bifida': 1,\n",
       " 'Down Syndrome': 1,\n",
       " 'Anemia': 1,\n",
       " 'Polycystic Ovary Syndrome (PCOS)': 1,\n",
       " 'Testicular Cancer': 1,\n",
       " 'Conjunctivitis (Pink Eye)': 1,\n",
       " 'Cataracts': 1,\n",
       " 'Prader-Willi Syndrome': 1,\n",
       " 'Glaucoma': 1,\n",
       " 'Sinusitis': 1,\n",
       " 'Sleep Apnea': 1,\n",
       " 'Dementia': 1,\n",
       " 'Schizophrenia': 1,\n",
       " 'Fibromyalgia': 1,\n",
       " 'Diverticulitis': 1,\n",
       " 'Lymphoma': 1,\n",
       " 'Otitis Media (Ear Infection)': 1,\n",
       " 'Bladder Cancer': 1,\n",
       " 'Hemorrhoids': 1,\n",
       " 'Bipolar Disorder': 1,\n",
       " 'Osteomyelitis': 1,\n",
       " 'Cirrhosis': 1}"
      ]
     },
     "execution_count": 53,
     "metadata": {},
     "output_type": "execute_result"
    }
   ],
   "source": [
    "count_freq"
   ]
  },
  {
   "cell_type": "markdown",
   "id": "729265e7",
   "metadata": {},
   "source": [
    "As we can see there are many diseases that are represented by only one two or three samples (patients).\n",
    "<br>Statistically we cannot expect the model to be able to identify these cases correctly since there are not enough samples for the model to learn.\n",
    "<br>Because of this we will filter out the diseases that appear less than 5 times."
   ]
  },
  {
   "cell_type": "code",
   "execution_count": 57,
   "id": "7fb93a8c",
   "metadata": {},
   "outputs": [
    {
     "data": {
      "text/html": [
       "<div>\n",
       "<style scoped>\n",
       "    .dataframe tbody tr th:only-of-type {\n",
       "        vertical-align: middle;\n",
       "    }\n",
       "\n",
       "    .dataframe tbody tr th {\n",
       "        vertical-align: top;\n",
       "    }\n",
       "\n",
       "    .dataframe thead th {\n",
       "        text-align: right;\n",
       "    }\n",
       "</style>\n",
       "<table border=\"1\" class=\"dataframe\">\n",
       "  <thead>\n",
       "    <tr style=\"text-align: right;\">\n",
       "      <th></th>\n",
       "      <th>Disease</th>\n",
       "      <th>Fever</th>\n",
       "      <th>Cough</th>\n",
       "      <th>Fatigue</th>\n",
       "      <th>Difficulty Breathing</th>\n",
       "      <th>Age</th>\n",
       "      <th>Gender</th>\n",
       "      <th>Blood Pressure</th>\n",
       "      <th>Cholesterol Level</th>\n",
       "      <th>Outcome Variable</th>\n",
       "      <th>count_freq</th>\n",
       "    </tr>\n",
       "  </thead>\n",
       "  <tbody>\n",
       "    <tr>\n",
       "      <th>0</th>\n",
       "      <td>Influenza</td>\n",
       "      <td>Yes</td>\n",
       "      <td>No</td>\n",
       "      <td>Yes</td>\n",
       "      <td>Yes</td>\n",
       "      <td>19</td>\n",
       "      <td>Female</td>\n",
       "      <td>Low</td>\n",
       "      <td>Normal</td>\n",
       "      <td>Positive</td>\n",
       "      <td>8</td>\n",
       "    </tr>\n",
       "    <tr>\n",
       "      <th>1</th>\n",
       "      <td>Common Cold</td>\n",
       "      <td>No</td>\n",
       "      <td>Yes</td>\n",
       "      <td>Yes</td>\n",
       "      <td>No</td>\n",
       "      <td>25</td>\n",
       "      <td>Female</td>\n",
       "      <td>Normal</td>\n",
       "      <td>Normal</td>\n",
       "      <td>Negative</td>\n",
       "      <td>6</td>\n",
       "    </tr>\n",
       "    <tr>\n",
       "      <th>2</th>\n",
       "      <td>Eczema</td>\n",
       "      <td>No</td>\n",
       "      <td>Yes</td>\n",
       "      <td>Yes</td>\n",
       "      <td>No</td>\n",
       "      <td>25</td>\n",
       "      <td>Female</td>\n",
       "      <td>Normal</td>\n",
       "      <td>Normal</td>\n",
       "      <td>Negative</td>\n",
       "      <td>6</td>\n",
       "    </tr>\n",
       "    <tr>\n",
       "      <th>3</th>\n",
       "      <td>Asthma</td>\n",
       "      <td>Yes</td>\n",
       "      <td>Yes</td>\n",
       "      <td>No</td>\n",
       "      <td>Yes</td>\n",
       "      <td>25</td>\n",
       "      <td>Male</td>\n",
       "      <td>Normal</td>\n",
       "      <td>Normal</td>\n",
       "      <td>Positive</td>\n",
       "      <td>23</td>\n",
       "    </tr>\n",
       "    <tr>\n",
       "      <th>4</th>\n",
       "      <td>Asthma</td>\n",
       "      <td>Yes</td>\n",
       "      <td>Yes</td>\n",
       "      <td>No</td>\n",
       "      <td>Yes</td>\n",
       "      <td>25</td>\n",
       "      <td>Male</td>\n",
       "      <td>Normal</td>\n",
       "      <td>Normal</td>\n",
       "      <td>Positive</td>\n",
       "      <td>23</td>\n",
       "    </tr>\n",
       "    <tr>\n",
       "      <th>...</th>\n",
       "      <td>...</td>\n",
       "      <td>...</td>\n",
       "      <td>...</td>\n",
       "      <td>...</td>\n",
       "      <td>...</td>\n",
       "      <td>...</td>\n",
       "      <td>...</td>\n",
       "      <td>...</td>\n",
       "      <td>...</td>\n",
       "      <td>...</td>\n",
       "      <td>...</td>\n",
       "    </tr>\n",
       "    <tr>\n",
       "      <th>344</th>\n",
       "      <td>Stroke</td>\n",
       "      <td>Yes</td>\n",
       "      <td>No</td>\n",
       "      <td>Yes</td>\n",
       "      <td>No</td>\n",
       "      <td>80</td>\n",
       "      <td>Female</td>\n",
       "      <td>High</td>\n",
       "      <td>High</td>\n",
       "      <td>Positive</td>\n",
       "      <td>16</td>\n",
       "    </tr>\n",
       "    <tr>\n",
       "      <th>345</th>\n",
       "      <td>Stroke</td>\n",
       "      <td>Yes</td>\n",
       "      <td>No</td>\n",
       "      <td>Yes</td>\n",
       "      <td>No</td>\n",
       "      <td>85</td>\n",
       "      <td>Male</td>\n",
       "      <td>High</td>\n",
       "      <td>High</td>\n",
       "      <td>Positive</td>\n",
       "      <td>16</td>\n",
       "    </tr>\n",
       "    <tr>\n",
       "      <th>346</th>\n",
       "      <td>Stroke</td>\n",
       "      <td>Yes</td>\n",
       "      <td>No</td>\n",
       "      <td>Yes</td>\n",
       "      <td>No</td>\n",
       "      <td>85</td>\n",
       "      <td>Male</td>\n",
       "      <td>High</td>\n",
       "      <td>High</td>\n",
       "      <td>Positive</td>\n",
       "      <td>16</td>\n",
       "    </tr>\n",
       "    <tr>\n",
       "      <th>347</th>\n",
       "      <td>Stroke</td>\n",
       "      <td>Yes</td>\n",
       "      <td>No</td>\n",
       "      <td>Yes</td>\n",
       "      <td>No</td>\n",
       "      <td>90</td>\n",
       "      <td>Female</td>\n",
       "      <td>High</td>\n",
       "      <td>High</td>\n",
       "      <td>Positive</td>\n",
       "      <td>16</td>\n",
       "    </tr>\n",
       "    <tr>\n",
       "      <th>348</th>\n",
       "      <td>Stroke</td>\n",
       "      <td>Yes</td>\n",
       "      <td>No</td>\n",
       "      <td>Yes</td>\n",
       "      <td>No</td>\n",
       "      <td>90</td>\n",
       "      <td>Female</td>\n",
       "      <td>High</td>\n",
       "      <td>High</td>\n",
       "      <td>Positive</td>\n",
       "      <td>16</td>\n",
       "    </tr>\n",
       "  </tbody>\n",
       "</table>\n",
       "<p>236 rows × 11 columns</p>\n",
       "</div>"
      ],
      "text/plain": [
       "         Disease Fever Cough Fatigue Difficulty Breathing  Age  Gender  \\\n",
       "0      Influenza   Yes    No     Yes                  Yes   19  Female   \n",
       "1    Common Cold    No   Yes     Yes                   No   25  Female   \n",
       "2         Eczema    No   Yes     Yes                   No   25  Female   \n",
       "3         Asthma   Yes   Yes      No                  Yes   25    Male   \n",
       "4         Asthma   Yes   Yes      No                  Yes   25    Male   \n",
       "..           ...   ...   ...     ...                  ...  ...     ...   \n",
       "344       Stroke   Yes    No     Yes                   No   80  Female   \n",
       "345       Stroke   Yes    No     Yes                   No   85    Male   \n",
       "346       Stroke   Yes    No     Yes                   No   85    Male   \n",
       "347       Stroke   Yes    No     Yes                   No   90  Female   \n",
       "348       Stroke   Yes    No     Yes                   No   90  Female   \n",
       "\n",
       "    Blood Pressure Cholesterol Level Outcome Variable  count_freq  \n",
       "0              Low            Normal         Positive           8  \n",
       "1           Normal            Normal         Negative           6  \n",
       "2           Normal            Normal         Negative           6  \n",
       "3           Normal            Normal         Positive          23  \n",
       "4           Normal            Normal         Positive          23  \n",
       "..             ...               ...              ...         ...  \n",
       "344           High              High         Positive          16  \n",
       "345           High              High         Positive          16  \n",
       "346           High              High         Positive          16  \n",
       "347           High              High         Positive          16  \n",
       "348           High              High         Positive          16  \n",
       "\n",
       "[236 rows x 11 columns]"
      ]
     },
     "execution_count": 57,
     "metadata": {},
     "output_type": "execute_result"
    }
   ],
   "source": [
    "df=df[df.count_freq>4]\n",
    "df"
   ]
  },
  {
   "cell_type": "markdown",
   "id": "c22a32ce",
   "metadata": {},
   "source": [
    "Now let us look again at the amount of diseases and see if in this way we can preview them in a reasonable way."
   ]
  },
  {
   "cell_type": "code",
   "execution_count": 59,
   "id": "31d7a3d0",
   "metadata": {},
   "outputs": [
    {
     "data": {
      "image/png": "[encoded data removed]",
      "text/plain": [
       "<Figure size 432x288 with 1 Axes>"
      ]
     },
     "metadata": {
      "needs_background": "light"
     },
     "output_type": "display_data"
    }
   ],
   "source": [
    "sns.countplot(df['Disease'])\n",
    "plt.grid()\n",
    "plt.show()"
   ]
  },
  {
   "cell_type": "code",
   "execution_count": 60,
   "id": "3f15afb5",
   "metadata": {},
   "outputs": [
    {
     "data": {
      "text/plain": [
       "([array([1., 0., 0., 0., 0., 0., 0., 0., 0., 0.]),\n",
       "  array([1., 0., 0., 0., 0., 0., 0., 0., 0., 0.]),\n",
       "  array([1., 0., 0., 0., 0., 0., 0., 0., 0., 0.]),\n",
       "  array([1., 0., 0., 0., 0., 0., 0., 0., 0., 0.]),\n",
       "  array([1., 0., 0., 0., 0., 0., 0., 0., 0., 0.]),\n",
       "  array([1., 0., 0., 0., 0., 0., 0., 0., 0., 0.]),\n",
       "  array([1., 0., 0., 0., 0., 0., 0., 0., 0., 0.]),\n",
       "  array([1., 0., 0., 0., 0., 0., 0., 0., 0., 0.]),\n",
       "  array([0., 1., 0., 0., 0., 0., 0., 0., 0., 0.]),\n",
       "  array([0., 1., 0., 0., 0., 0., 0., 0., 0., 0.]),\n",
       "  array([1., 0., 0., 0., 0., 0., 0., 0., 0., 0.]),\n",
       "  array([0., 1., 0., 0., 0., 0., 0., 0., 0., 0.]),\n",
       "  array([0., 1., 0., 0., 0., 0., 0., 0., 0., 0.]),\n",
       "  array([1., 0., 0., 0., 0., 0., 0., 0., 0., 0.]),\n",
       "  array([0., 0., 1., 0., 0., 0., 0., 0., 0., 0.]),\n",
       "  array([0., 0., 1., 0., 0., 0., 0., 0., 0., 0.]),\n",
       "  array([0., 0., 1., 0., 0., 0., 0., 0., 0., 0.]),\n",
       "  array([0., 0., 0., 1., 0., 0., 0., 0., 0., 0.]),\n",
       "  array([0., 0., 0., 1., 0., 0., 0., 0., 0., 0.]),\n",
       "  array([0., 0., 0., 1., 0., 0., 0., 0., 0., 0.]),\n",
       "  array([0., 0., 0., 0., 1., 0., 0., 0., 0., 0.]),\n",
       "  array([0., 0., 0., 0., 1., 0., 0., 0., 0., 0.]),\n",
       "  array([1., 0., 0., 0., 0., 0., 0., 0., 0., 0.]),\n",
       "  array([0., 0., 1., 0., 0., 0., 0., 0., 0., 0.]),\n",
       "  array([0., 0., 0., 0., 1., 0., 0., 0., 0., 0.]),\n",
       "  array([0., 0., 0., 0., 0., 1., 0., 0., 0., 0.]),\n",
       "  array([0., 0., 0., 0., 0., 1., 0., 0., 0., 0.]),\n",
       "  array([0., 0., 0., 0., 0., 1., 0., 0., 0., 0.]),\n",
       "  array([0., 0., 0., 0., 0., 1., 0., 0., 0., 0.]),\n",
       "  array([1., 0., 0., 0., 0., 0., 0., 0., 0., 0.]),\n",
       "  array([1., 0., 0., 0., 0., 0., 0., 0., 0., 0.]),\n",
       "  array([1., 0., 0., 0., 0., 0., 0., 0., 0., 0.]),\n",
       "  array([0., 0., 0., 0., 0., 1., 0., 0., 0., 0.]),\n",
       "  array([0., 0., 0., 0., 0., 1., 0., 0., 0., 0.]),\n",
       "  array([0., 0., 0., 0., 0., 1., 0., 0., 0., 0.]),\n",
       "  array([1., 0., 0., 0., 0., 0., 0., 0., 0., 0.]),\n",
       "  array([1., 0., 0., 0., 0., 0., 0., 0., 0., 0.]),\n",
       "  array([1., 0., 0., 0., 0., 0., 0., 0., 0., 0.]),\n",
       "  array([0., 0., 0., 0., 0., 0., 1., 0., 0., 0.]),\n",
       "  array([1., 0., 0., 0., 0., 0., 0., 0., 0., 0.]),\n",
       "  array([0., 0., 0., 0., 0., 0., 1., 0., 0., 0.]),\n",
       "  array([1., 0., 0., 0., 0., 0., 0., 0., 0., 0.]),\n",
       "  array([0., 0., 0., 0., 0., 1., 0., 0., 0., 0.]),\n",
       "  array([0., 0., 0., 0., 0., 0., 1., 0., 0., 0.]),\n",
       "  array([0., 1., 0., 0., 0., 0., 0., 0., 0., 0.]),\n",
       "  array([1., 0., 0., 0., 0., 0., 0., 0., 0., 0.]),\n",
       "  array([1., 0., 0., 0., 0., 0., 0., 0., 0., 0.]),\n",
       "  array([1., 0., 0., 0., 0., 0., 0., 0., 0., 0.]),\n",
       "  array([1., 0., 0., 0., 0., 0., 0., 0., 0., 0.]),\n",
       "  array([1., 0., 0., 0., 0., 0., 0., 0., 0., 0.]),\n",
       "  array([1., 0., 0., 0., 0., 0., 0., 0., 0., 0.]),\n",
       "  array([0., 0., 0., 0., 0., 0., 0., 1., 0., 0.]),\n",
       "  array([0., 1., 0., 0., 0., 0., 0., 0., 0., 0.]),\n",
       "  array([0., 0., 0., 0., 0., 0., 1., 0., 0., 0.]),\n",
       "  array([0., 0., 0., 0., 0., 0., 1., 0., 0., 0.]),\n",
       "  array([0., 0., 0., 0., 0., 0., 0., 1., 0., 0.]),\n",
       "  array([0., 0., 0., 0., 0., 0., 0., 1., 0., 0.]),\n",
       "  array([1., 0., 0., 0., 0., 0., 0., 0., 0., 0.]),\n",
       "  array([1., 0., 0., 0., 0., 0., 0., 0., 0., 0.]),\n",
       "  array([0., 0., 0., 1., 0., 0., 0., 0., 0., 0.]),\n",
       "  array([0., 0., 1., 0., 0., 0., 0., 0., 0., 0.]),\n",
       "  array([0., 1., 0., 0., 0., 0., 0., 0., 0., 0.]),\n",
       "  array([0., 1., 0., 0., 0., 0., 0., 0., 0., 0.]),\n",
       "  array([0., 0., 0., 0., 1., 0., 0., 0., 0., 0.]),\n",
       "  array([0., 0., 0., 1., 0., 0., 0., 0., 0., 0.]),\n",
       "  array([0., 0., 0., 0., 0., 0., 0., 1., 0., 0.]),\n",
       "  array([0., 0., 0., 0., 0., 1., 0., 0., 0., 0.]),\n",
       "  array([0., 0., 0., 0., 0., 1., 0., 0., 0., 0.]),\n",
       "  array([0., 0., 1., 0., 0., 0., 0., 0., 0., 0.]),\n",
       "  array([0., 0., 0., 1., 0., 0., 0., 0., 0., 0.]),\n",
       "  array([0., 0., 0., 1., 0., 0., 0., 0., 0., 0.]),\n",
       "  array([0., 0., 0., 0., 0., 1., 0., 0., 0., 0.]),\n",
       "  array([0., 0., 0., 0., 0., 1., 0., 0., 0., 0.]),\n",
       "  array([0., 0., 0., 0., 1., 0., 0., 0., 0., 0.]),\n",
       "  array([0., 1., 0., 0., 0., 0., 0., 0., 0., 0.]),\n",
       "  array([0., 0., 0., 1., 0., 0., 0., 0., 0., 0.]),\n",
       "  array([0., 0., 1., 0., 0., 0., 0., 0., 0., 0.]),\n",
       "  array([1., 0., 0., 0., 0., 0., 0., 0., 0., 0.]),\n",
       "  array([0., 0., 0., 0., 0., 0., 0., 0., 1., 0.]),\n",
       "  array([0., 0., 0., 1., 0., 0., 0., 0., 0., 0.]),\n",
       "  array([0., 0., 0., 0., 0., 0., 0., 1., 0., 0.]),\n",
       "  array([0., 0., 0., 0., 0., 0., 1., 0., 0., 0.]),\n",
       "  array([0., 0., 0., 0., 1., 0., 0., 0., 0., 0.]),\n",
       "  array([0., 1., 0., 0., 0., 0., 0., 0., 0., 0.]),\n",
       "  array([0., 0., 1., 0., 0., 0., 0., 0., 0., 0.]),\n",
       "  array([0., 0., 0., 0., 0., 1., 0., 0., 0., 0.]),\n",
       "  array([0., 0., 0., 0., 0., 0., 0., 0., 1., 0.]),\n",
       "  array([0., 0., 0., 0., 0., 0., 1., 0., 0., 0.]),\n",
       "  array([0., 0., 0., 0., 0., 1., 0., 0., 0., 0.]),\n",
       "  array([0., 0., 1., 0., 0., 0., 0., 0., 0., 0.]),\n",
       "  array([0., 0., 0., 0., 0., 0., 0., 0., 1., 0.]),\n",
       "  array([1., 0., 0., 0., 0., 0., 0., 0., 0., 0.]),\n",
       "  array([1., 0., 0., 0., 0., 0., 0., 0., 0., 0.]),\n",
       "  array([1., 0., 0., 0., 0., 0., 0., 0., 0., 0.]),\n",
       "  array([1., 0., 0., 0., 0., 0., 0., 0., 0., 0.]),\n",
       "  array([1., 0., 0., 0., 0., 0., 0., 0., 0., 0.]),\n",
       "  array([1., 0., 0., 0., 0., 0., 0., 0., 0., 0.]),\n",
       "  array([0., 0., 0., 0., 0., 0., 0., 0., 1., 0.]),\n",
       "  array([0., 0., 1., 0., 0., 0., 0., 0., 0., 0.]),\n",
       "  array([0., 1., 0., 0., 0., 0., 0., 0., 0., 0.]),\n",
       "  array([0., 0., 0., 0., 0., 0., 1., 0., 0., 0.]),\n",
       "  array([0., 0., 0., 0., 0., 0., 0., 1., 0., 0.]),\n",
       "  array([0., 0., 0., 0., 0., 0., 0., 1., 0., 0.]),\n",
       "  array([0., 0., 0., 0., 0., 0., 0., 1., 0., 0.]),\n",
       "  array([0., 1., 0., 0., 0., 0., 0., 0., 0., 0.]),\n",
       "  array([1., 0., 0., 0., 0., 0., 0., 0., 0., 0.]),\n",
       "  array([0., 0., 0., 1., 0., 0., 0., 0., 0., 0.]),\n",
       "  array([1., 0., 0., 0., 0., 0., 0., 0., 0., 0.]),\n",
       "  array([0., 0., 0., 0., 1., 0., 0., 0., 0., 0.]),\n",
       "  array([0., 0., 0., 1., 0., 0., 0., 0., 0., 0.]),\n",
       "  array([0., 0., 0., 0., 0., 0., 0., 1., 0., 0.]),\n",
       "  array([0., 0., 0., 0., 0., 1., 0., 0., 0., 0.]),\n",
       "  array([0., 0., 0., 0., 0., 0., 0., 0., 1., 0.]),\n",
       "  array([0., 0., 0., 0., 1., 0., 0., 0., 0., 0.]),\n",
       "  array([0., 0., 0., 0., 1., 0., 0., 0., 0., 0.]),\n",
       "  array([0., 0., 1., 0., 0., 0., 0., 0., 0., 0.]),\n",
       "  array([0., 0., 0., 0., 0., 0., 0., 0., 0., 1.]),\n",
       "  array([0., 0., 0., 0., 0., 0., 0., 0., 0., 1.]),\n",
       "  array([0., 0., 0., 0., 0., 0., 0., 0., 1., 0.]),\n",
       "  array([0., 0., 0., 0., 0., 0., 1., 0., 0., 0.]),\n",
       "  array([0., 1., 0., 0., 0., 0., 0., 0., 0., 0.]),\n",
       "  array([0., 0., 0., 0., 0., 0., 0., 0., 0., 1.]),\n",
       "  array([0., 0., 0., 0., 1., 0., 0., 0., 0., 0.]),\n",
       "  array([0., 0., 0., 0., 0., 0., 0., 0., 1., 0.]),\n",
       "  array([0., 0., 0., 0., 0., 1., 0., 0., 0., 0.]),\n",
       "  array([0., 0., 1., 0., 0., 0., 0., 0., 0., 0.]),\n",
       "  array([0., 0., 0., 1., 0., 0., 0., 0., 0., 0.]),\n",
       "  array([0., 0., 0., 0., 1., 0., 0., 0., 0., 0.]),\n",
       "  array([0., 0., 0., 0., 1., 0., 0., 0., 0., 0.]),\n",
       "  array([0., 1., 0., 0., 0., 0., 0., 0., 0., 0.]),\n",
       "  array([0., 1., 0., 0., 0., 0., 0., 0., 0., 0.]),\n",
       "  array([1., 0., 0., 0., 0., 0., 0., 0., 0., 0.]),\n",
       "  array([1., 0., 0., 0., 0., 0., 0., 0., 0., 0.]),\n",
       "  array([0., 0., 0., 0., 0., 0., 0., 0., 0., 1.]),\n",
       "  array([0., 0., 0., 0., 0., 0., 0., 0., 0., 1.]),\n",
       "  array([0., 0., 0., 1., 0., 0., 0., 0., 0., 0.]),\n",
       "  array([0., 0., 1., 0., 0., 0., 0., 0., 0., 0.]),\n",
       "  array([0., 0., 1., 0., 0., 0., 0., 0., 0., 0.]),\n",
       "  array([0., 0., 0., 0., 0., 0., 0., 1., 0., 0.]),\n",
       "  array([0., 0., 0., 0., 0., 0., 0., 0., 0., 1.]),\n",
       "  array([0., 0., 0., 0., 0., 0., 0., 1., 0., 0.]),\n",
       "  array([0., 0., 0., 0., 0., 0., 1., 0., 0., 0.]),\n",
       "  array([0., 0., 0., 0., 0., 0., 1., 0., 0., 0.]),\n",
       "  array([0., 0., 0., 0., 0., 0., 0., 0., 1., 0.]),\n",
       "  array([0., 0., 0., 0., 0., 0., 1., 0., 0., 0.]),\n",
       "  array([0., 0., 0., 0., 0., 0., 1., 0., 0., 0.]),\n",
       "  array([0., 0., 0., 0., 0., 0., 0., 1., 0., 0.]),\n",
       "  array([0., 0., 0., 0., 0., 0., 0., 0., 0., 1.]),\n",
       "  array([0., 0., 0., 0., 0., 0., 0., 0., 0., 1.]),\n",
       "  array([0., 1., 0., 0., 0., 0., 0., 0., 0., 0.]),\n",
       "  array([0., 1., 0., 0., 0., 0., 0., 0., 0., 0.]),\n",
       "  array([0., 0., 0., 0., 0., 0., 0., 0., 0., 1.]),\n",
       "  array([0., 0., 0., 0., 0., 0., 0., 0., 0., 1.]),\n",
       "  array([0., 0., 0., 1., 0., 0., 0., 0., 0., 0.]),\n",
       "  array([0., 0., 1., 0., 0., 0., 0., 0., 0., 0.]),\n",
       "  array([0., 0., 0., 0., 0., 0., 0., 1., 0., 0.]),\n",
       "  array([0., 0., 0., 0., 0., 0., 0., 0., 0., 1.]),\n",
       "  array([0., 0., 0., 0., 1., 0., 0., 0., 0., 0.]),\n",
       "  array([0., 0., 0., 0., 0., 0., 0., 0., 1., 0.]),\n",
       "  array([0., 0., 1., 0., 0., 0., 0., 0., 0., 0.]),\n",
       "  array([0., 0., 0., 1., 0., 0., 0., 0., 0., 0.]),\n",
       "  array([0., 0., 0., 0., 1., 0., 0., 0., 0., 0.]),\n",
       "  array([1., 0., 0., 0., 0., 0., 0., 0., 0., 0.]),\n",
       "  array([0., 0., 0., 0., 0., 1., 0., 0., 0., 0.]),\n",
       "  array([1., 0., 0., 0., 0., 0., 0., 0., 0., 0.]),\n",
       "  array([0., 0., 1., 0., 0., 0., 0., 0., 0., 0.]),\n",
       "  array([0., 0., 0., 1., 0., 0., 0., 0., 0., 0.]),\n",
       "  array([0., 0., 0., 0., 1., 0., 0., 0., 0., 0.]),\n",
       "  array([0., 0., 0., 0., 0., 1., 0., 0., 0., 0.]),\n",
       "  array([0., 0., 0., 0., 0., 0., 0., 1., 0., 0.]),\n",
       "  array([0., 0., 0., 0., 0., 0., 1., 0., 0., 0.]),\n",
       "  array([0., 0., 0., 0., 0., 0., 1., 0., 0., 0.]),\n",
       "  array([0., 0., 0., 0., 0., 1., 0., 0., 0., 0.]),\n",
       "  array([0., 0., 0., 0., 0., 1., 0., 0., 0., 0.]),\n",
       "  array([1., 0., 0., 0., 0., 0., 0., 0., 0., 0.]),\n",
       "  array([0., 0., 1., 0., 0., 0., 0., 0., 0., 0.]),\n",
       "  array([0., 0., 0., 0., 0., 0., 0., 1., 0., 0.]),\n",
       "  array([0., 0., 0., 0., 0., 0., 0., 1., 0., 0.]),\n",
       "  array([0., 0., 0., 0., 0., 1., 0., 0., 0., 0.]),\n",
       "  array([0., 0., 0., 0., 0., 0., 1., 0., 0., 0.]),\n",
       "  array([0., 0., 0., 0., 0., 0., 0., 0., 0., 1.]),\n",
       "  array([0., 0., 0., 0., 0., 0., 0., 0., 0., 1.]),\n",
       "  array([0., 1., 0., 0., 0., 0., 0., 0., 0., 0.]),\n",
       "  array([0., 0., 0., 0., 0., 0., 0., 0., 1., 0.]),\n",
       "  array([0., 0., 0., 0., 0., 0., 0., 0., 1., 0.]),\n",
       "  array([0., 0., 0., 0., 0., 0., 0., 1., 0., 0.]),\n",
       "  array([0., 0., 0., 0., 0., 0., 0., 0., 0., 1.]),\n",
       "  array([0., 0., 0., 0., 0., 0., 0., 0., 1., 0.]),\n",
       "  array([0., 0., 0., 0., 0., 0., 1., 0., 0., 0.]),\n",
       "  array([0., 0., 0., 0., 0., 0., 1., 0., 0., 0.]),\n",
       "  array([0., 0., 0., 0., 0., 0., 1., 0., 0., 0.]),\n",
       "  array([0., 0., 0., 0., 0., 0., 1., 0., 0., 0.]),\n",
       "  array([1., 0., 0., 0., 0., 0., 0., 0., 0., 0.]),\n",
       "  array([0., 0., 0., 0., 0., 0., 1., 0., 0., 0.]),\n",
       "  array([0., 0., 0., 0., 0., 0., 0., 0., 1., 0.]),\n",
       "  array([0., 0., 0., 0., 0., 0., 0., 0., 1., 0.]),\n",
       "  array([0., 1., 0., 0., 0., 0., 0., 0., 0., 0.]),\n",
       "  array([0., 0., 0., 0., 0., 0., 0., 0., 1., 0.]),\n",
       "  array([0., 0., 0., 0., 0., 0., 1., 0., 0., 0.]),\n",
       "  array([0., 0., 0., 0., 0., 0., 1., 0., 0., 0.]),\n",
       "  array([0., 0., 0., 0., 0., 0., 1., 0., 0., 0.]),\n",
       "  array([1., 0., 0., 0., 0., 0., 0., 0., 0., 0.]),\n",
       "  array([0., 0., 0., 0., 0., 0., 0., 1., 0., 0.]),\n",
       "  array([0., 0., 0., 0., 0., 0., 0., 1., 0., 0.]),\n",
       "  array([0., 0., 0., 0., 0., 0., 0., 1., 0., 0.]),\n",
       "  array([0., 0., 0., 0., 1., 0., 0., 0., 0., 0.]),\n",
       "  array([0., 0., 0., 0., 0., 0., 0., 0., 1., 0.]),\n",
       "  array([0., 0., 0., 0., 0., 0., 1., 0., 0., 0.]),\n",
       "  array([0., 0., 1., 0., 0., 0., 0., 0., 0., 0.]),\n",
       "  array([0., 0., 0., 0., 0., 0., 0., 0., 0., 1.]),\n",
       "  array([0., 0., 0., 0., 0., 0., 0., 0., 0., 1.]),\n",
       "  array([0., 0., 0., 1., 0., 0., 0., 0., 0., 0.]),\n",
       "  array([0., 0., 1., 0., 0., 0., 0., 0., 0., 0.]),\n",
       "  array([0., 0., 0., 0., 1., 0., 0., 0., 0., 0.]),\n",
       "  array([0., 0., 0., 0., 1., 0., 0., 0., 0., 0.]),\n",
       "  array([0., 0., 0., 0., 0., 0., 0., 0., 0., 1.]),\n",
       "  array([0., 0., 0., 0., 0., 0., 0., 0., 0., 1.]),\n",
       "  array([0., 0., 0., 0., 0., 0., 0., 0., 0., 1.]),\n",
       "  array([0., 0., 0., 0., 0., 1., 0., 0., 0., 0.]),\n",
       "  array([0., 0., 1., 0., 0., 0., 0., 0., 0., 0.]),\n",
       "  array([0., 0., 0., 1., 0., 0., 0., 0., 0., 0.]),\n",
       "  array([0., 0., 0., 0., 0., 0., 1., 0., 0., 0.]),\n",
       "  array([0., 0., 0., 0., 1., 0., 0., 0., 0., 0.]),\n",
       "  array([0., 0., 0., 0., 0., 0., 0., 0., 0., 1.]),\n",
       "  array([0., 0., 0., 0., 0., 0., 0., 0., 0., 1.]),\n",
       "  array([0., 0., 0., 0., 0., 0., 1., 0., 0., 0.]),\n",
       "  array([0., 0., 0., 0., 0., 0., 0., 0., 0., 1.]),\n",
       "  array([0., 0., 0., 0., 0., 1., 0., 0., 0., 0.]),\n",
       "  array([0., 0., 0., 0., 1., 0., 0., 0., 0., 0.]),\n",
       "  array([0., 0., 0., 0., 1., 0., 0., 0., 0., 0.]),\n",
       "  array([0., 0., 0., 0., 1., 0., 0., 0., 0., 0.]),\n",
       "  array([0., 0., 0., 0., 1., 0., 0., 0., 0., 0.]),\n",
       "  array([0., 0., 0., 0., 1., 0., 0., 0., 0., 0.]),\n",
       "  array([0., 0., 0., 0., 1., 0., 0., 0., 0., 0.]),\n",
       "  array([0., 0., 0., 0., 1., 0., 0., 0., 0., 0.]),\n",
       "  array([0., 0., 0., 0., 1., 0., 0., 0., 0., 0.])],\n",
       " array([ 0. ,  3.1,  6.2,  9.3, 12.4, 15.5, 18.6, 21.7, 24.8, 27.9, 31. ]),\n",
       " <a list of 236 Lists of Patches objects>)"
      ]
     },
     "execution_count": 60,
     "metadata": {},
     "output_type": "execute_result"
    },
    {
     "data": {
      "image/png": "[encoded data removed]",
      "text/plain": [
       "<Figure size 432x288 with 1 Axes>"
      ]
     },
     "metadata": {
      "needs_background": "light"
     },
     "output_type": "display_data"
    }
   ],
   "source": [
    "plt.hist(df['Disease'])"
   ]
  },
  {
   "cell_type": "code",
   "execution_count": 61,
   "id": "9a14ba6a",
   "metadata": {},
   "outputs": [
    {
     "data": {
      "application/vnd.plotly.v1+json": {
       "config": {
        "plotlyServerURL": "https://plot.ly"
       },
       "data": [
        {
         "domain": {
          "x": [
           0,
           1
          ],
          "y": [
           0,
           1
          ]
         },
         "hovertemplate": "Disease=%{label}<br>Count=%{value}<extra></extra>",
         "labels": [
          "Asthma",
          "Stroke",
          "Osteoporosis",
          "Hypertension",
          "Diabetes",
          "Migraine",
          "Influenza",
          "Bronchitis",
          "Pneumonia",
          "Hyperthyroidism",
          "Hypothyroidism",
          "Rheumatoid Arthritis",
          "Osteoarthritis",
          "Kidney Cancer",
          "Allergic Rhinitis",
          "Eczema",
          "Common Cold",
          "Liver Cancer",
          "Depression",
          "Anxiety Disorders",
          "Gastroenteritis",
          "Crohn's Disease",
          "Coronary Artery Disease",
          "Pancreatitis",
          "Liver Disease",
          "Multiple Sclerosis",
          "Ulcerative Colitis",
          "Urinary Tract Infection",
          "Kidney Disease",
          "Alzheimer's Disease",
          "Parkinson's Disease",
          "Psoriasis"
         ],
         "legendgroup": "",
         "name": "",
         "showlegend": true,
         "textinfo": "percent+label",
         "type": "pie",
         "values": [
          23,
          16,
          14,
          10,
          10,
          10,
          8,
          8,
          8,
          7,
          7,
          6,
          6,
          6,
          6,
          6,
          6,
          6,
          6,
          6,
          6,
          5,
          5,
          5,
          5,
          5,
          5,
          5,
          5,
          5,
          5,
          5
         ]
        }
       ],
       "layout": {
        "legend": {
         "tracegroupgap": 0
        },
        "piecolorway": [
         "rgb(103,0,13)",
         "rgb(165,15,21)",
         "rgb(203,24,29)",
         "rgb(239,59,44)",
         "rgb(251,106,74)",
         "rgb(252,146,114)",
         "rgb(252,187,161)",
         "rgb(254,224,210)",
         "rgb(255,245,240)"
        ],
        "template": {
         "data": {
          "bar": [
           {
            "error_x": {
             "color": "#2a3f5f"
            },
            "error_y": {
             "color": "#2a3f5f"
            },
            "marker": {
             "line": {
              "color": "#E5ECF6",
              "width": 0.5
             },
             "pattern": {
              "fillmode": "overlay",
              "size": 10,
              "solidity": 0.2
             }
            },
            "type": "bar"
           }
          ],
          "barpolar": [
           {
            "marker": {
             "line": {
              "color": "#E5ECF6",
              "width": 0.5
             },
             "pattern": {
              "fillmode": "overlay",
              "size": 10,
              "solidity": 0.2
             }
            },
            "type": "barpolar"
           }
          ],
          "carpet": [
           {
            "aaxis": {
             "endlinecolor": "#2a3f5f",
             "gridcolor": "white",
             "linecolor": "white",
             "minorgridcolor": "white",
             "startlinecolor": "#2a3f5f"
            },
            "baxis": {
             "endlinecolor": "#2a3f5f",
             "gridcolor": "white",
             "linecolor": "white",
             "minorgridcolor": "white",
             "startlinecolor": "#2a3f5f"
            },
            "type": "carpet"
           }
          ],
          "choropleth": [
           {
            "colorbar": {
             "outlinewidth": 0,
             "ticks": ""
            },
            "type": "choropleth"
           }
          ],
          "contour": [
           {
            "colorbar": {
             "outlinewidth": 0,
             "ticks": ""
            },
            "colorscale": [
             [
              0,
              "#0d0887"
             ],
             [
              0.1111111111111111,
              "#46039f"
             ],
             [
              0.2222222222222222,
              "#7201a8"
             ],
             [
              0.3333333333333333,
              "#9c179e"
             ],
             [
              0.4444444444444444,
              "#bd3786"
             ],
             [
              0.5555555555555556,
              "#d8576b"
             ],
             [
              0.6666666666666666,
              "#ed7953"
             ],
             [
              0.7777777777777778,
              "#fb9f3a"
             ],
             [
              0.8888888888888888,
              "#fdca26"
             ],
             [
              1,
              "#f0f921"
             ]
            ],
            "type": "contour"
           }
          ],
          "contourcarpet": [
           {
            "colorbar": {
             "outlinewidth": 0,
             "ticks": ""
            },
            "type": "contourcarpet"
           }
          ],
          "heatmap": [
           {
            "colorbar": {
             "outlinewidth": 0,
             "ticks": ""
            },
            "colorscale": [
             [
              0,
              "#0d0887"
             ],
             [
              0.1111111111111111,
              "#46039f"
             ],
             [
              0.2222222222222222,
              "#7201a8"
             ],
             [
              0.3333333333333333,
              "#9c179e"
             ],
             [
              0.4444444444444444,
              "#bd3786"
             ],
             [
              0.5555555555555556,
              "#d8576b"
             ],
             [
              0.6666666666666666,
              "#ed7953"
             ],
             [
              0.7777777777777778,
              "#fb9f3a"
             ],
             [
              0.8888888888888888,
              "#fdca26"
             ],
             [
              1,
              "#f0f921"
             ]
            ],
            "type": "heatmap"
           }
          ],
          "heatmapgl": [
           {
            "colorbar": {
             "outlinewidth": 0,
             "ticks": ""
            },
            "colorscale": [
             [
              0,
              "#0d0887"
             ],
             [
              0.1111111111111111,
              "#46039f"
             ],
             [
              0.2222222222222222,
              "#7201a8"
             ],
             [
              0.3333333333333333,
              "#9c179e"
             ],
             [
              0.4444444444444444,
              "#bd3786"
             ],
             [
              0.5555555555555556,
              "#d8576b"
             ],
             [
              0.6666666666666666,
              "#ed7953"
             ],
             [
              0.7777777777777778,
              "#fb9f3a"
             ],
             [
              0.8888888888888888,
              "#fdca26"
             ],
             [
              1,
              "#f0f921"
             ]
            ],
            "type": "heatmapgl"
           }
          ],
          "histogram": [
           {
            "marker": {
             "pattern": {
              "fillmode": "overlay",
              "size": 10,
              "solidity": 0.2
             }
            },
            "type": "histogram"
           }
          ],
          "histogram2d": [
           {
            "colorbar": {
             "outlinewidth": 0,
             "ticks": ""
            },
            "colorscale": [
             [
              0,
              "#0d0887"
             ],
             [
              0.1111111111111111,
              "#46039f"
             ],
             [
              0.2222222222222222,
              "#7201a8"
             ],
             [
              0.3333333333333333,
              "#9c179e"
             ],
             [
              0.4444444444444444,
              "#bd3786"
             ],
             [
              0.5555555555555556,
              "#d8576b"
             ],
             [
              0.6666666666666666,
              "#ed7953"
             ],
             [
              0.7777777777777778,
              "#fb9f3a"
             ],
             [
              0.8888888888888888,
              "#fdca26"
             ],
             [
              1,
              "#f0f921"
             ]
            ],
            "type": "histogram2d"
           }
          ],
          "histogram2dcontour": [
           {
            "colorbar": {
             "outlinewidth": 0,
             "ticks": ""
            },
            "colorscale": [
             [
              0,
              "#0d0887"
             ],
             [
              0.1111111111111111,
              "#46039f"
             ],
             [
              0.2222222222222222,
              "#7201a8"
             ],
             [
              0.3333333333333333,
              "#9c179e"
             ],
             [
              0.4444444444444444,
              "#bd3786"
             ],
             [
              0.5555555555555556,
              "#d8576b"
             ],
             [
              0.6666666666666666,
              "#ed7953"
             ],
             [
              0.7777777777777778,
              "#fb9f3a"
             ],
             [
              0.8888888888888888,
              "#fdca26"
             ],
             [
              1,
              "#f0f921"
             ]
            ],
            "type": "histogram2dcontour"
           }
          ],
          "mesh3d": [
           {
            "colorbar": {
             "outlinewidth": 0,
             "ticks": ""
            },
            "type": "mesh3d"
           }
          ],
          "parcoords": [
           {
            "line": {
             "colorbar": {
              "outlinewidth": 0,
              "ticks": ""
             }
            },
            "type": "parcoords"
           }
          ],
          "pie": [
           {
            "automargin": true,
            "type": "pie"
           }
          ],
          "scatter": [
           {
            "marker": {
             "colorbar": {
              "outlinewidth": 0,
              "ticks": ""
             }
            },
            "type": "scatter"
           }
          ],
          "scatter3d": [
           {
            "line": {
             "colorbar": {
              "outlinewidth": 0,
              "ticks": ""
             }
            },
            "marker": {
             "colorbar": {
              "outlinewidth": 0,
              "ticks": ""
             }
            },
            "type": "scatter3d"
           }
          ],
          "scattercarpet": [
           {
            "marker": {
             "colorbar": {
              "outlinewidth": 0,
              "ticks": ""
             }
            },
            "type": "scattercarpet"
           }
          ],
          "scattergeo": [
           {
            "marker": {
             "colorbar": {
              "outlinewidth": 0,
              "ticks": ""
             }
            },
            "type": "scattergeo"
           }
          ],
          "scattergl": [
           {
            "marker": {
             "colorbar": {
              "outlinewidth": 0,
              "ticks": ""
             }
            },
            "type": "scattergl"
           }
          ],
          "scattermapbox": [
           {
            "marker": {
             "colorbar": {
              "outlinewidth": 0,
              "ticks": ""
             }
            },
            "type": "scattermapbox"
           }
          ],
          "scatterpolar": [
           {
            "marker": {
             "colorbar": {
              "outlinewidth": 0,
              "ticks": ""
             }
            },
            "type": "scatterpolar"
           }
          ],
          "scatterpolargl": [
           {
            "marker": {
             "colorbar": {
              "outlinewidth": 0,
              "ticks": ""
             }
            },
            "type": "scatterpolargl"
           }
          ],
          "scatterternary": [
           {
            "marker": {
             "colorbar": {
              "outlinewidth": 0,
              "ticks": ""
             }
            },
            "type": "scatterternary"
           }
          ],
          "surface": [
           {
            "colorbar": {
             "outlinewidth": 0,
             "ticks": ""
            },
            "colorscale": [
             [
              0,
              "#0d0887"
             ],
             [
              0.1111111111111111,
              "#46039f"
             ],
             [
              0.2222222222222222,
              "#7201a8"
             ],
             [
              0.3333333333333333,
              "#9c179e"
             ],
             [
              0.4444444444444444,
              "#bd3786"
             ],
             [
              0.5555555555555556,
              "#d8576b"
             ],
             [
              0.6666666666666666,
              "#ed7953"
             ],
             [
              0.7777777777777778,
              "#fb9f3a"
             ],
             [
              0.8888888888888888,
              "#fdca26"
             ],
             [
              1,
              "#f0f921"
             ]
            ],
            "type": "surface"
           }
          ],
          "table": [
           {
            "cells": {
             "fill": {
              "color": "#EBF0F8"
             },
             "line": {
              "color": "white"
             }
            },
            "header": {
             "fill": {
              "color": "#C8D4E3"
             },
             "line": {
              "color": "white"
             }
            },
            "type": "table"
           }
          ]
         },
         "layout": {
          "annotationdefaults": {
           "arrowcolor": "#2a3f5f",
           "arrowhead": 0,
           "arrowwidth": 1
          },
          "autotypenumbers": "strict",
          "coloraxis": {
           "colorbar": {
            "outlinewidth": 0,
            "ticks": ""
           }
          },
          "colorscale": {
           "diverging": [
            [
             0,
             "#8e0152"
            ],
            [
             0.1,
             "#c51b7d"
            ],
            [
             0.2,
             "#de77ae"
            ],
            [
             0.3,
             "#f1b6da"
            ],
            [
             0.4,
             "#fde0ef"
            ],
            [
             0.5,
             "#f7f7f7"
            ],
            [
             0.6,
             "#e6f5d0"
            ],
            [
             0.7,
             "#b8e186"
            ],
            [
             0.8,
             "#7fbc41"
            ],
            [
             0.9,
             "#4d9221"
            ],
            [
             1,
             "#276419"
            ]
           ],
           "sequential": [
            [
             0,
             "#0d0887"
            ],
            [
             0.1111111111111111,
             "#46039f"
            ],
            [
             0.2222222222222222,
             "#7201a8"
            ],
            [
             0.3333333333333333,
             "#9c179e"
            ],
            [
             0.4444444444444444,
             "#bd3786"
            ],
            [
             0.5555555555555556,
             "#d8576b"
            ],
            [
             0.6666666666666666,
             "#ed7953"
            ],
            [
             0.7777777777777778,
             "#fb9f3a"
            ],
            [
             0.8888888888888888,
             "#fdca26"
            ],
            [
             1,
             "#f0f921"
            ]
           ],
           "sequentialminus": [
            [
             0,
             "#0d0887"
            ],
            [
             0.1111111111111111,
             "#46039f"
            ],
            [
             0.2222222222222222,
             "#7201a8"
            ],
            [
             0.3333333333333333,
             "#9c179e"
            ],
            [
             0.4444444444444444,
             "#bd3786"
            ],
            [
             0.5555555555555556,
             "#d8576b"
            ],
            [
             0.6666666666666666,
             "#ed7953"
            ],
            [
             0.7777777777777778,
             "#fb9f3a"
            ],
            [
             0.8888888888888888,
             "#fdca26"
            ],
            [
             1,
             "#f0f921"
            ]
           ]
          },
          "colorway": [
           "#636efa",
           "#EF553B",
           "#00cc96",
           "#ab63fa",
           "#FFA15A",
           "#19d3f3",
           "#FF6692",
           "#B6E880",
           "#FF97FF",
           "#FECB52"
          ],
          "font": {
           "color": "#2a3f5f"
          },
          "geo": {
           "bgcolor": "white",
           "lakecolor": "white",
           "landcolor": "#E5ECF6",
           "showlakes": true,
           "showland": true,
           "subunitcolor": "white"
          },
          "hoverlabel": {
           "align": "left"
          },
          "hovermode": "closest",
          "mapbox": {
           "style": "light"
          },
          "paper_bgcolor": "white",
          "plot_bgcolor": "#E5ECF6",
          "polar": {
           "angularaxis": {
            "gridcolor": "white",
            "linecolor": "white",
            "ticks": ""
           },
           "bgcolor": "#E5ECF6",
           "radialaxis": {
            "gridcolor": "white",
            "linecolor": "white",
            "ticks": ""
           }
          },
          "scene": {
           "xaxis": {
            "backgroundcolor": "#E5ECF6",
            "gridcolor": "white",
            "gridwidth": 2,
            "linecolor": "white",
            "showbackground": true,
            "ticks": "",
            "zerolinecolor": "white"
           },
           "yaxis": {
            "backgroundcolor": "#E5ECF6",
            "gridcolor": "white",
            "gridwidth": 2,
            "linecolor": "white",
            "showbackground": true,
            "ticks": "",
            "zerolinecolor": "white"
           },
           "zaxis": {
            "backgroundcolor": "#E5ECF6",
            "gridcolor": "white",
            "gridwidth": 2,
            "linecolor": "white",
            "showbackground": true,
            "ticks": "",
            "zerolinecolor": "white"
           }
          },
          "shapedefaults": {
           "line": {
            "color": "#2a3f5f"
           }
          },
          "ternary": {
           "aaxis": {
            "gridcolor": "white",
            "linecolor": "white",
            "ticks": ""
           },
           "baxis": {
            "gridcolor": "white",
            "linecolor": "white",
            "ticks": ""
           },
           "bgcolor": "#E5ECF6",
           "caxis": {
            "gridcolor": "white",
            "linecolor": "white",
            "ticks": ""
           }
          },
          "title": {
           "x": 0.05
          },
          "xaxis": {
           "automargin": true,
           "gridcolor": "white",
           "linecolor": "white",
           "ticks": "",
           "title": {
            "standoff": 15
           },
           "zerolinecolor": "white",
           "zerolinewidth": 2
          },
          "yaxis": {
           "automargin": true,
           "gridcolor": "white",
           "linecolor": "white",
           "ticks": "",
           "title": {
            "standoff": 15
           },
           "zerolinecolor": "white",
           "zerolinewidth": 2
          }
         }
        },
        "title": {
         "text": "Disease Distribution"
        }
       }
      },
      "text/html": [
       "<div>                            <div id=\"b7f33db8-4509-478b-9cb4-04c206cd7642\" class=\"plotly-graph-div\" style=\"height:525px; width:100%;\"></div>            <script type=\"text/javascript\">                require([\"plotly\"], function(Plotly) {                    window.PLOTLYENV=window.PLOTLYENV || {};                                    if (document.getElementById(\"b7f33db8-4509-478b-9cb4-04c206cd7642\")) {                    Plotly.newPlot(                        \"b7f33db8-4509-478b-9cb4-04c206cd7642\",                        [{\"domain\":{\"x\":[0.0,1.0],\"y\":[0.0,1.0]},\"hovertemplate\":\"Disease=%{label}<br>Count=%{value}<extra></extra>\",\"labels\":[\"Asthma\",\"Stroke\",\"Osteoporosis\",\"Hypertension\",\"Diabetes\",\"Migraine\",\"Influenza\",\"Bronchitis\",\"Pneumonia\",\"Hyperthyroidism\",\"Hypothyroidism\",\"Rheumatoid Arthritis\",\"Osteoarthritis\",\"Kidney Cancer\",\"Allergic Rhinitis\",\"Eczema\",\"Common Cold\",\"Liver Cancer\",\"Depression\",\"Anxiety Disorders\",\"Gastroenteritis\",\"Crohn's Disease\",\"Coronary Artery Disease\",\"Pancreatitis\",\"Liver Disease\",\"Multiple Sclerosis\",\"Ulcerative Colitis\",\"Urinary Tract Infection\",\"Kidney Disease\",\"Alzheimer's Disease\",\"Parkinson's Disease\",\"Psoriasis\"],\"legendgroup\":\"\",\"name\":\"\",\"showlegend\":true,\"values\":[23,16,14,10,10,10,8,8,8,7,7,6,6,6,6,6,6,6,6,6,6,5,5,5,5,5,5,5,5,5,5,5],\"type\":\"pie\",\"textinfo\":\"percent+label\"}],                        {\"template\":{\"data\":{\"bar\":[{\"error_x\":{\"color\":\"#2a3f5f\"},\"error_y\":{\"color\":\"#2a3f5f\"},\"marker\":{\"line\":{\"color\":\"#E5ECF6\",\"width\":0.5},\"pattern\":{\"fillmode\":\"overlay\",\"size\":10,\"solidity\":0.2}},\"type\":\"bar\"}],\"barpolar\":[{\"marker\":{\"line\":{\"color\":\"#E5ECF6\",\"width\":0.5},\"pattern\":{\"fillmode\":\"overlay\",\"size\":10,\"solidity\":0.2}},\"type\":\"barpolar\"}],\"carpet\":[{\"aaxis\":{\"endlinecolor\":\"#2a3f5f\",\"gridcolor\":\"white\",\"linecolor\":\"white\",\"minorgridcolor\":\"white\",\"startlinecolor\":\"#2a3f5f\"},\"baxis\":{\"endlinecolor\":\"#2a3f5f\",\"gridcolor\":\"white\",\"linecolor\":\"white\",\"minorgridcolor\":\"white\",\"startlinecolor\":\"#2a3f5f\"},\"type\":\"carpet\"}],\"choropleth\":[{\"colorbar\":{\"outlinewidth\":0,\"ticks\":\"\"},\"type\":\"choropleth\"}],\"contour\":[{\"colorbar\":{\"outlinewidth\":0,\"ticks\":\"\"},\"colorscale\":[[0.0,\"#0d0887\"],[0.1111111111111111,\"#46039f\"],[0.2222222222222222,\"#7201a8\"],[0.3333333333333333,\"#9c179e\"],[0.4444444444444444,\"#bd3786\"],[0.5555555555555556,\"#d8576b\"],[0.6666666666666666,\"#ed7953\"],[0.7777777777777778,\"#fb9f3a\"],[0.8888888888888888,\"#fdca26\"],[1.0,\"#f0f921\"]],\"type\":\"contour\"}],\"contourcarpet\":[{\"colorbar\":{\"outlinewidth\":0,\"ticks\":\"\"},\"type\":\"contourcarpet\"}],\"heatmap\":[{\"colorbar\":{\"outlinewidth\":0,\"ticks\":\"\"},\"colorscale\":[[0.0,\"#0d0887\"],[0.1111111111111111,\"#46039f\"],[0.2222222222222222,\"#7201a8\"],[0.3333333333333333,\"#9c179e\"],[0.4444444444444444,\"#bd3786\"],[0.5555555555555556,\"#d8576b\"],[0.6666666666666666,\"#ed7953\"],[0.7777777777777778,\"#fb9f3a\"],[0.8888888888888888,\"#fdca26\"],[1.0,\"#f0f921\"]],\"type\":\"heatmap\"}],\"heatmapgl\":[{\"colorbar\":{\"outlinewidth\":0,\"ticks\":\"\"},\"colorscale\":[[0.0,\"#0d0887\"],[0.1111111111111111,\"#46039f\"],[0.2222222222222222,\"#7201a8\"],[0.3333333333333333,\"#9c179e\"],[0.4444444444444444,\"#bd3786\"],[0.5555555555555556,\"#d8576b\"],[0.6666666666666666,\"#ed7953\"],[0.7777777777777778,\"#fb9f3a\"],[0.8888888888888888,\"#fdca26\"],[1.0,\"#f0f921\"]],\"type\":\"heatmapgl\"}],\"histogram\":[{\"marker\":{\"pattern\":{\"fillmode\":\"overlay\",\"size\":10,\"solidity\":0.2}},\"type\":\"histogram\"}],\"histogram2d\":[{\"colorbar\":{\"outlinewidth\":0,\"ticks\":\"\"},\"colorscale\":[[0.0,\"#0d0887\"],[0.1111111111111111,\"#46039f\"],[0.2222222222222222,\"#7201a8\"],[0.3333333333333333,\"#9c179e\"],[0.4444444444444444,\"#bd3786\"],[0.5555555555555556,\"#d8576b\"],[0.6666666666666666,\"#ed7953\"],[0.7777777777777778,\"#fb9f3a\"],[0.8888888888888888,\"#fdca26\"],[1.0,\"#f0f921\"]],\"type\":\"histogram2d\"}],\"histogram2dcontour\":[{\"colorbar\":{\"outlinewidth\":0,\"ticks\":\"\"},\"colorscale\":[[0.0,\"#0d0887\"],[0.1111111111111111,\"#46039f\"],[0.2222222222222222,\"#7201a8\"],[0.3333333333333333,\"#9c179e\"],[0.4444444444444444,\"#bd3786\"],[0.5555555555555556,\"#d8576b\"],[0.6666666666666666,\"#ed7953\"],[0.7777777777777778,\"#fb9f3a\"],[0.8888888888888888,\"#fdca26\"],[1.0,\"#f0f921\"]],\"type\":\"histogram2dcontour\"}],\"mesh3d\":[{\"colorbar\":{\"outlinewidth\":0,\"ticks\":\"\"},\"type\":\"mesh3d\"}],\"parcoords\":[{\"line\":{\"colorbar\":{\"outlinewidth\":0,\"ticks\":\"\"}},\"type\":\"parcoords\"}],\"pie\":[{\"automargin\":true,\"type\":\"pie\"}],\"scatter\":[{\"marker\":{\"colorbar\":{\"outlinewidth\":0,\"ticks\":\"\"}},\"type\":\"scatter\"}],\"scatter3d\":[{\"line\":{\"colorbar\":{\"outlinewidth\":0,\"ticks\":\"\"}},\"marker\":{\"colorbar\":{\"outlinewidth\":0,\"ticks\":\"\"}},\"type\":\"scatter3d\"}],\"scattercarpet\":[{\"marker\":{\"colorbar\":{\"outlinewidth\":0,\"ticks\":\"\"}},\"type\":\"scattercarpet\"}],\"scattergeo\":[{\"marker\":{\"colorbar\":{\"outlinewidth\":0,\"ticks\":\"\"}},\"type\":\"scattergeo\"}],\"scattergl\":[{\"marker\":{\"colorbar\":{\"outlinewidth\":0,\"ticks\":\"\"}},\"type\":\"scattergl\"}],\"scattermapbox\":[{\"marker\":{\"colorbar\":{\"outlinewidth\":0,\"ticks\":\"\"}},\"type\":\"scattermapbox\"}],\"scatterpolar\":[{\"marker\":{\"colorbar\":{\"outlinewidth\":0,\"ticks\":\"\"}},\"type\":\"scatterpolar\"}],\"scatterpolargl\":[{\"marker\":{\"colorbar\":{\"outlinewidth\":0,\"ticks\":\"\"}},\"type\":\"scatterpolargl\"}],\"scatterternary\":[{\"marker\":{\"colorbar\":{\"outlinewidth\":0,\"ticks\":\"\"}},\"type\":\"scatterternary\"}],\"surface\":[{\"colorbar\":{\"outlinewidth\":0,\"ticks\":\"\"},\"colorscale\":[[0.0,\"#0d0887\"],[0.1111111111111111,\"#46039f\"],[0.2222222222222222,\"#7201a8\"],[0.3333333333333333,\"#9c179e\"],[0.4444444444444444,\"#bd3786\"],[0.5555555555555556,\"#d8576b\"],[0.6666666666666666,\"#ed7953\"],[0.7777777777777778,\"#fb9f3a\"],[0.8888888888888888,\"#fdca26\"],[1.0,\"#f0f921\"]],\"type\":\"surface\"}],\"table\":[{\"cells\":{\"fill\":{\"color\":\"#EBF0F8\"},\"line\":{\"color\":\"white\"}},\"header\":{\"fill\":{\"color\":\"#C8D4E3\"},\"line\":{\"color\":\"white\"}},\"type\":\"table\"}]},\"layout\":{\"annotationdefaults\":{\"arrowcolor\":\"#2a3f5f\",\"arrowhead\":0,\"arrowwidth\":1},\"autotypenumbers\":\"strict\",\"coloraxis\":{\"colorbar\":{\"outlinewidth\":0,\"ticks\":\"\"}},\"colorscale\":{\"diverging\":[[0,\"#8e0152\"],[0.1,\"#c51b7d\"],[0.2,\"#de77ae\"],[0.3,\"#f1b6da\"],[0.4,\"#fde0ef\"],[0.5,\"#f7f7f7\"],[0.6,\"#e6f5d0\"],[0.7,\"#b8e186\"],[0.8,\"#7fbc41\"],[0.9,\"#4d9221\"],[1,\"#276419\"]],\"sequential\":[[0.0,\"#0d0887\"],[0.1111111111111111,\"#46039f\"],[0.2222222222222222,\"#7201a8\"],[0.3333333333333333,\"#9c179e\"],[0.4444444444444444,\"#bd3786\"],[0.5555555555555556,\"#d8576b\"],[0.6666666666666666,\"#ed7953\"],[0.7777777777777778,\"#fb9f3a\"],[0.8888888888888888,\"#fdca26\"],[1.0,\"#f0f921\"]],\"sequentialminus\":[[0.0,\"#0d0887\"],[0.1111111111111111,\"#46039f\"],[0.2222222222222222,\"#7201a8\"],[0.3333333333333333,\"#9c179e\"],[0.4444444444444444,\"#bd3786\"],[0.5555555555555556,\"#d8576b\"],[0.6666666666666666,\"#ed7953\"],[0.7777777777777778,\"#fb9f3a\"],[0.8888888888888888,\"#fdca26\"],[1.0,\"#f0f921\"]]},\"colorway\":[\"#636efa\",\"#EF553B\",\"#00cc96\",\"#ab63fa\",\"#FFA15A\",\"#19d3f3\",\"#FF6692\",\"#B6E880\",\"#FF97FF\",\"#FECB52\"],\"font\":{\"color\":\"#2a3f5f\"},\"geo\":{\"bgcolor\":\"white\",\"lakecolor\":\"white\",\"landcolor\":\"#E5ECF6\",\"showlakes\":true,\"showland\":true,\"subunitcolor\":\"white\"},\"hoverlabel\":{\"align\":\"left\"},\"hovermode\":\"closest\",\"mapbox\":{\"style\":\"light\"},\"paper_bgcolor\":\"white\",\"plot_bgcolor\":\"#E5ECF6\",\"polar\":{\"angularaxis\":{\"gridcolor\":\"white\",\"linecolor\":\"white\",\"ticks\":\"\"},\"bgcolor\":\"#E5ECF6\",\"radialaxis\":{\"gridcolor\":\"white\",\"linecolor\":\"white\",\"ticks\":\"\"}},\"scene\":{\"xaxis\":{\"backgroundcolor\":\"#E5ECF6\",\"gridcolor\":\"white\",\"gridwidth\":2,\"linecolor\":\"white\",\"showbackground\":true,\"ticks\":\"\",\"zerolinecolor\":\"white\"},\"yaxis\":{\"backgroundcolor\":\"#E5ECF6\",\"gridcolor\":\"white\",\"gridwidth\":2,\"linecolor\":\"white\",\"showbackground\":true,\"ticks\":\"\",\"zerolinecolor\":\"white\"},\"zaxis\":{\"backgroundcolor\":\"#E5ECF6\",\"gridcolor\":\"white\",\"gridwidth\":2,\"linecolor\":\"white\",\"showbackground\":true,\"ticks\":\"\",\"zerolinecolor\":\"white\"}},\"shapedefaults\":{\"line\":{\"color\":\"#2a3f5f\"}},\"ternary\":{\"aaxis\":{\"gridcolor\":\"white\",\"linecolor\":\"white\",\"ticks\":\"\"},\"baxis\":{\"gridcolor\":\"white\",\"linecolor\":\"white\",\"ticks\":\"\"},\"bgcolor\":\"#E5ECF6\",\"caxis\":{\"gridcolor\":\"white\",\"linecolor\":\"white\",\"ticks\":\"\"}},\"title\":{\"x\":0.05},\"xaxis\":{\"automargin\":true,\"gridcolor\":\"white\",\"linecolor\":\"white\",\"ticks\":\"\",\"title\":{\"standoff\":15},\"zerolinecolor\":\"white\",\"zerolinewidth\":2},\"yaxis\":{\"automargin\":true,\"gridcolor\":\"white\",\"linecolor\":\"white\",\"ticks\":\"\",\"title\":{\"standoff\":15},\"zerolinecolor\":\"white\",\"zerolinewidth\":2}}},\"legend\":{\"tracegroupgap\":0},\"title\":{\"text\":\"Disease Distribution\"},\"piecolorway\":[\"rgb(103,0,13)\",\"rgb(165,15,21)\",\"rgb(203,24,29)\",\"rgb(239,59,44)\",\"rgb(251,106,74)\",\"rgb(252,146,114)\",\"rgb(252,187,161)\",\"rgb(254,224,210)\",\"rgb(255,245,240)\"]},                        {\"responsive\": true}                    ).then(function(){\n",
       "                            \n",
       "var gd = document.getElementById('b7f33db8-4509-478b-9cb4-04c206cd7642');\n",
       "var x = new MutationObserver(function (mutations, observer) {{\n",
       "        var display = window.getComputedStyle(gd).display;\n",
       "        if (!display || display === 'none') {{\n",
       "            console.log([gd, 'removed!']);\n",
       "            Plotly.purge(gd);\n",
       "            observer.disconnect();\n",
       "        }}\n",
       "}});\n",
       "\n",
       "// Listen for the removal of the full notebook cells\n",
       "var notebookContainer = gd.closest('#notebook-container');\n",
       "if (notebookContainer) {{\n",
       "    x.observe(notebookContainer, {childList: true});\n",
       "}}\n",
       "\n",
       "// Listen for the clearing of the current output cell\n",
       "var outputEl = gd.closest('.output');\n",
       "if (outputEl) {{\n",
       "    x.observe(outputEl, {childList: true});\n",
       "}}\n",
       "\n",
       "                        })                };                });            </script>        </div>"
      ]
     },
     "metadata": {},
     "output_type": "display_data"
    }
   ],
   "source": [
    "import plotly.express as px\n",
    "\n",
    "disease_counts = df['Disease'].value_counts().reset_index()\n",
    "disease_counts.columns = ['Disease', 'Count']\n",
    "\n",
    "fig = px.pie(disease_counts, \n",
    "             values= 'Count', \n",
    "             names= 'Disease', \n",
    "             color_discrete_sequence= px.colors.sequential.Reds_r, \n",
    "             title= 'Disease Distribution')\n",
    "\n",
    "fig.update_traces(textinfo='percent+label')\n",
    "\n",
    "fig.show()"
   ]
  },
  {
   "cell_type": "code",
   "execution_count": null,
   "id": "73e41128",
   "metadata": {},
   "outputs": [],
   "source": []
  },
  {
   "cell_type": "code",
   "execution_count": 33,
   "id": "caa5cca6",
   "metadata": {},
   "outputs": [
    {
     "data": {
      "image/png": "[encoded data removed]",
      "text/plain": [
       "<Figure size 432x288 with 1 Axes>"
      ]
     },
     "metadata": {
      "needs_background": "light"
     },
     "output_type": "display_data"
    }
   ],
   "source": [
    "sns.kdeplot(df['Age'])\n",
    "plt.grid()\n",
    "plt.show()"
   ]
  },
  {
   "cell_type": "code",
   "execution_count": null,
   "id": "a9bf3455",
   "metadata": {},
   "outputs": [],
   "source": []
  },
  {
   "cell_type": "code",
   "execution_count": null,
   "id": "c376df9f",
   "metadata": {},
   "outputs": [],
   "source": []
  },
  {
   "cell_type": "code",
   "execution_count": 29,
   "id": "9ddfde96",
   "metadata": {},
   "outputs": [
    {
     "data": {
      "image/png": "[encoded data removed]",
      "text/plain": [
       "<Figure size 432x288 with 9 Axes>"
      ]
     },
     "metadata": {
      "needs_background": "light"
     },
     "output_type": "display_data"
    }
   ],
   "source": [
    "r=3\n",
    "c=3\n",
    "it=1\n",
    "for i in df.drop('Disease',axis=1).columns:\n",
    "    plt.subplot(r,c,it)\n",
    "    if df[i].dtype=='object':\n",
    "        sns.countplot(y=df[i])\n",
    "    else:\n",
    "        sns.kdeplot(df[i])\n",
    "        plt.grid()\n",
    "    it+=1\n",
    "plt.tight_layout()\n",
    "plt.show()"
   ]
  },
  {
   "cell_type": "code",
   "execution_count": null,
   "id": "4ead101f",
   "metadata": {},
   "outputs": [],
   "source": []
  },
  {
   "cell_type": "code",
   "execution_count": null,
   "id": "cab7703f",
   "metadata": {},
   "outputs": [],
   "source": []
  },
  {
   "cell_type": "code",
   "execution_count": null,
   "id": "b5504633",
   "metadata": {},
   "outputs": [],
   "source": []
  },
  {
   "cell_type": "code",
   "execution_count": null,
   "id": "8624609f",
   "metadata": {},
   "outputs": [],
   "source": []
  }
 ],
 "metadata": {
  "kernelspec": {
   "display_name": "Python [conda env:learn-env] *",
   "language": "python",
   "name": "conda-env-learn-env-py"
  },
  "language_info": {
   "codemirror_mode": {
    "name": "ipython",
    "version": 3
   },
   "file_extension": ".py",
   "mimetype": "text/x-python",
   "name": "python",
   "nbconvert_exporter": "python",
   "pygments_lexer": "ipython3",
   "version": "3.6.6"
  }
 },
 "nbformat": 4,
 "nbformat_minor": 5
}
